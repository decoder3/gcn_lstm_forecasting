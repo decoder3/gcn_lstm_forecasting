{
 "cells": [
  {
   "cell_type": "code",
   "execution_count": 2,
   "metadata": {
    "id": "8HoBgkeJsFQf"
   },
   "outputs": [],
   "source": [
    "# !pip install --quiet optuna\n",
    "# !pip install --quiet stellargraph"
   ]
  },
  {
   "cell_type": "code",
   "execution_count": 3,
   "metadata": {
    "colab": {
     "base_uri": "https://localhost:8080/"
    },
    "id": "nygzV4y4D0qo",
    "outputId": "50c29833-3f32-405d-b4b1-09c4437dfd97"
   },
   "outputs": [],
   "source": [
    "import os\n",
    "import optuna\n",
    "from optuna.trial import TrialState"
   ]
  },
  {
   "cell_type": "code",
   "execution_count": 4,
   "metadata": {
    "id": "d1fxr-4ZWaWQ"
   },
   "outputs": [],
   "source": [
    "import pandas as pd\n",
    "import numpy as np\n",
    "import torch\n",
    "import random\n",
    "import math\n",
    "import torch.optim as optim"
   ]
  },
  {
   "cell_type": "code",
   "execution_count": 5,
   "metadata": {},
   "outputs": [],
   "source": [
    "from torch.utils.data import DataLoader, TensorDataset"
   ]
  },
  {
   "cell_type": "markdown",
   "metadata": {
    "id": "w8v-XuEdwYtu",
    "jp-MarkdownHeadingCollapsed": true,
    "tags": []
   },
   "source": [
    "# Data prep"
   ]
  },
  {
   "cell_type": "code",
   "execution_count": 6,
   "metadata": {
    "colab": {
     "base_uri": "https://localhost:8080/"
    },
    "id": "027d9ea6",
    "outputId": "2997026b-2490-4b39-943b-93ace10daae3"
   },
   "outputs": [
    {
     "name": "stdout",
     "output_type": "stream",
     "text": [
      "(270, 270)\n"
     ]
    }
   ],
   "source": [
    "from scipy.spatial.distance import pdist, squareform\n",
    "\n",
    "lat_range = {'min': 28.486, 'max': 28.72}\n",
    "long_range = {'min': 77.1, 'max': 77.32}\n",
    "n_lat_grid = 25\n",
    "n_long_grid = 25\n",
    "seq_len = 3\n",
    "pre_len = 1\n",
    "\n",
    "#adjacency matrix\n",
    "grid_points = pd.read_csv('../Data/grid_points_25.csv')\n",
    "n_grid_points = grid_points.shape[0] \n",
    "X = grid_points[[\"lat_grid\", \"long_grid\"]].to_numpy()\n",
    "f = lambda u, v: max(abs(u-v))<=1\n",
    "adj = squareform(pdist(X, f))\n",
    "eye = np.identity(n_grid_points)\n",
    "adj = adj+eye\n",
    "print(adj.shape) \n",
    "\n",
    "grid_points = grid_points.pivot_table(index=['lat_grid', 'long_grid'])\n",
    "grid_points_indices = grid_points.index"
   ]
  },
  {
   "cell_type": "code",
   "execution_count": 7,
   "metadata": {
    "id": "3119cb60"
   },
   "outputs": [],
   "source": [
    "def data_preparation(datafile):\n",
    "    #Put the file location\n",
    "    df = pd.read_csv(datafile)\n",
    "    #type casting\n",
    "    df.pm1_0 = df.pm1_0.astype(float)\n",
    "    df.pm2_5 = df.pm2_5.astype(float)\n",
    "    df.pm10 = df.pm10.astype(float)\n",
    "    df.lat = round(round(5*df.lat.astype(float),2)/5.0,3)\n",
    "    df.long= round(round(5*df.long.astype(float),2)/5.0,3)\n",
    "\n",
    "    # Ensuring Delhi region and removing outliers from data\n",
    "    df = df[(df.lat.astype(int) == 28) &(df.long.astype(int) == 77)]\n",
    "    df = df[(df.pm1_0<=1500) & (df.pm2_5<=1500) & (df.pm10<=1500) & (df.pm1_0>=20) & (df.pm2_5>=30) & (df.pm10>=30)]\n",
    "    #df = df[(df.humidity<=60)&(df.humidity>=7)]\n",
    "    # only PM2_5\n",
    "    df = df[['dateTime','lat','long','pm2_5']]\n",
    "\n",
    "    df['lat_grid'] = df.apply(lambda row: int((n_lat_grid-1)*(row.lat-lat_range['min'])/(lat_range['max']-lat_range['min'])), axis=1 )\n",
    "    df['long_grid'] = df.apply(lambda row: int((n_long_grid-1)*(row.long-long_range['min'])/(long_range['max']-long_range['min'])), axis=1 )\n",
    "    df['lat_grid'] = df['lat_grid'].astype(float).astype(int)\n",
    "    df['long_grid'] = df['long_grid'].astype(float).astype(int)\n",
    "\n",
    "    # rounding @120min\n",
    "    df.dateTime = pd.to_datetime(df.dateTime)\n",
    "    df.dateTime = df.dateTime.dt.round('180min')\n",
    "    # use time as a feature as well\n",
    "    df.dateTime = df.dateTime.dt.hour*60 + df.dateTime.dt.minute\n",
    "    df = df[(df.dateTime>=360)] \n",
    "\n",
    "    # only PM2_5\n",
    "#     df = df[['dateTime','lat_grid','long_grid','pm2_5\n",
    "    df = df.pivot_table(index=['lat_grid','long_grid'], columns='dateTime', aggfunc='mean')['pm2_5']\n",
    "    columns = df.columns\n",
    "#     df = df[columns[2:]]\n",
    "    df = df.fillna(0)\n",
    "    \n",
    "    return df"
   ]
  },
  {
   "cell_type": "code",
   "execution_count": 8,
   "metadata": {},
   "outputs": [],
   "source": [
    "df = data_preparation('../PM Datasets/2020-12-01_all.csv')"
   ]
  },
  {
   "cell_type": "code",
   "execution_count": 9,
   "metadata": {},
   "outputs": [
    {
     "data": {
      "text/html": [
       "<div>\n",
       "<style scoped>\n",
       "    .dataframe tbody tr th:only-of-type {\n",
       "        vertical-align: middle;\n",
       "    }\n",
       "\n",
       "    .dataframe tbody tr th {\n",
       "        vertical-align: top;\n",
       "    }\n",
       "\n",
       "    .dataframe thead th {\n",
       "        text-align: right;\n",
       "    }\n",
       "</style>\n",
       "<table border=\"1\" class=\"dataframe\">\n",
       "  <thead>\n",
       "    <tr style=\"text-align: right;\">\n",
       "      <th></th>\n",
       "      <th>dateTime</th>\n",
       "      <th>360</th>\n",
       "      <th>540</th>\n",
       "      <th>720</th>\n",
       "      <th>900</th>\n",
       "      <th>1080</th>\n",
       "      <th>1260</th>\n",
       "    </tr>\n",
       "    <tr>\n",
       "      <th>lat_grid</th>\n",
       "      <th>long_grid</th>\n",
       "      <th></th>\n",
       "      <th></th>\n",
       "      <th></th>\n",
       "      <th></th>\n",
       "      <th></th>\n",
       "      <th></th>\n",
       "    </tr>\n",
       "  </thead>\n",
       "  <tbody>\n",
       "    <tr>\n",
       "      <th>0</th>\n",
       "      <th>22</th>\n",
       "      <td>274.869242</td>\n",
       "      <td>275.605369</td>\n",
       "      <td>185.320702</td>\n",
       "      <td>142.292380</td>\n",
       "      <td>210.565693</td>\n",
       "      <td>303.773973</td>\n",
       "    </tr>\n",
       "    <tr>\n",
       "      <th rowspan=\"2\" valign=\"top\">1</th>\n",
       "      <th>21</th>\n",
       "      <td>277.657143</td>\n",
       "      <td>290.829787</td>\n",
       "      <td>191.355140</td>\n",
       "      <td>133.500000</td>\n",
       "      <td>184.521739</td>\n",
       "      <td>309.384615</td>\n",
       "    </tr>\n",
       "    <tr>\n",
       "      <th>22</th>\n",
       "      <td>274.326007</td>\n",
       "      <td>286.357724</td>\n",
       "      <td>210.973510</td>\n",
       "      <td>143.156716</td>\n",
       "      <td>195.157143</td>\n",
       "      <td>279.916667</td>\n",
       "    </tr>\n",
       "    <tr>\n",
       "      <th rowspan=\"2\" valign=\"top\">2</th>\n",
       "      <th>21</th>\n",
       "      <td>276.337884</td>\n",
       "      <td>294.913357</td>\n",
       "      <td>194.714286</td>\n",
       "      <td>130.401198</td>\n",
       "      <td>190.013514</td>\n",
       "      <td>311.555556</td>\n",
       "    </tr>\n",
       "    <tr>\n",
       "      <th>22</th>\n",
       "      <td>309.000000</td>\n",
       "      <td>0.000000</td>\n",
       "      <td>0.000000</td>\n",
       "      <td>120.750000</td>\n",
       "      <td>0.000000</td>\n",
       "      <td>0.000000</td>\n",
       "    </tr>\n",
       "    <tr>\n",
       "      <th>...</th>\n",
       "      <th>...</th>\n",
       "      <td>...</td>\n",
       "      <td>...</td>\n",
       "      <td>...</td>\n",
       "      <td>...</td>\n",
       "      <td>...</td>\n",
       "      <td>...</td>\n",
       "    </tr>\n",
       "    <tr>\n",
       "      <th rowspan=\"3\" valign=\"top\">18</th>\n",
       "      <th>20</th>\n",
       "      <td>319.370370</td>\n",
       "      <td>335.133333</td>\n",
       "      <td>312.354839</td>\n",
       "      <td>189.211268</td>\n",
       "      <td>182.400000</td>\n",
       "      <td>504.166667</td>\n",
       "    </tr>\n",
       "    <tr>\n",
       "      <th>23</th>\n",
       "      <td>293.303030</td>\n",
       "      <td>305.217391</td>\n",
       "      <td>0.000000</td>\n",
       "      <td>203.821429</td>\n",
       "      <td>0.000000</td>\n",
       "      <td>0.000000</td>\n",
       "    </tr>\n",
       "    <tr>\n",
       "      <th>24</th>\n",
       "      <td>309.564706</td>\n",
       "      <td>319.508772</td>\n",
       "      <td>0.000000</td>\n",
       "      <td>194.931624</td>\n",
       "      <td>0.000000</td>\n",
       "      <td>0.000000</td>\n",
       "    </tr>\n",
       "    <tr>\n",
       "      <th rowspan=\"2\" valign=\"top\">19</th>\n",
       "      <th>19</th>\n",
       "      <td>338.242424</td>\n",
       "      <td>350.683333</td>\n",
       "      <td>294.000000</td>\n",
       "      <td>179.868421</td>\n",
       "      <td>208.177778</td>\n",
       "      <td>0.000000</td>\n",
       "    </tr>\n",
       "    <tr>\n",
       "      <th>20</th>\n",
       "      <td>326.805970</td>\n",
       "      <td>324.847162</td>\n",
       "      <td>268.331370</td>\n",
       "      <td>197.803704</td>\n",
       "      <td>212.255319</td>\n",
       "      <td>0.000000</td>\n",
       "    </tr>\n",
       "  </tbody>\n",
       "</table>\n",
       "<p>130 rows × 6 columns</p>\n",
       "</div>"
      ],
      "text/plain": [
       "dateTime                  360         540         720         900   \\\n",
       "lat_grid long_grid                                                   \n",
       "0        22         274.869242  275.605369  185.320702  142.292380   \n",
       "1        21         277.657143  290.829787  191.355140  133.500000   \n",
       "         22         274.326007  286.357724  210.973510  143.156716   \n",
       "2        21         276.337884  294.913357  194.714286  130.401198   \n",
       "         22         309.000000    0.000000    0.000000  120.750000   \n",
       "...                        ...         ...         ...         ...   \n",
       "18       20         319.370370  335.133333  312.354839  189.211268   \n",
       "         23         293.303030  305.217391    0.000000  203.821429   \n",
       "         24         309.564706  319.508772    0.000000  194.931624   \n",
       "19       19         338.242424  350.683333  294.000000  179.868421   \n",
       "         20         326.805970  324.847162  268.331370  197.803704   \n",
       "\n",
       "dateTime                  1080        1260  \n",
       "lat_grid long_grid                          \n",
       "0        22         210.565693  303.773973  \n",
       "1        21         184.521739  309.384615  \n",
       "         22         195.157143  279.916667  \n",
       "2        21         190.013514  311.555556  \n",
       "         22           0.000000    0.000000  \n",
       "...                        ...         ...  \n",
       "18       20         182.400000  504.166667  \n",
       "         23           0.000000    0.000000  \n",
       "         24           0.000000    0.000000  \n",
       "19       19         208.177778    0.000000  \n",
       "         20         212.255319    0.000000  \n",
       "\n",
       "[130 rows x 6 columns]"
      ]
     },
     "execution_count": 9,
     "metadata": {},
     "output_type": "execute_result"
    }
   ],
   "source": [
    "df"
   ]
  },
  {
   "cell_type": "code",
   "execution_count": 10,
   "metadata": {
    "id": "862f1040"
   },
   "outputs": [],
   "source": [
    "def train_test_split(df, grid_points_indices, train_size):\n",
    "    # random.seed(10)\n",
    "    time_len = df.shape[1]\n",
    "    train_size = int(time_len * train_size) \n",
    "    train_data = df.iloc[:, :train_size]\n",
    "    train_data = train_data.reindex(grid_points_indices,fill_value=0)\n",
    "    train_data = np.array(train_data)\n",
    "    test_data = df.iloc[:, train_size:]\n",
    "    test_data = test_data.reindex(grid_points_indices,fill_value=0)\n",
    "    test_data = np.array(test_data)\n",
    "    return train_data, test_data"
   ]
  },
  {
   "cell_type": "code",
   "execution_count": 11,
   "metadata": {
    "id": "71d9f9ca"
   },
   "outputs": [],
   "source": [
    "def scale_data(train_data, test_data):\n",
    "    max_pm = train_data.max()\n",
    "    min_pm = train_data.min()\n",
    "    train_scaled = (train_data - min_pm) / (max_pm - min_pm)\n",
    "    test_scaled = (test_data - min_pm) / (max_pm - min_pm)\n",
    "    return train_scaled, test_scaled"
   ]
  },
  {
   "cell_type": "code",
   "execution_count": 12,
   "metadata": {
    "id": "216e54f0"
   },
   "outputs": [],
   "source": [
    "def sequence_data_preparation(seq_len, pre_len, train_data, test_data):\n",
    "    trainX, trainY, testX, testY = [], [], [], []\n",
    "\n",
    "    for i in range(train_data.shape[1] - int(seq_len + pre_len - 1)):\n",
    "        a = train_data[:, i : i + seq_len + pre_len]\n",
    "        trainX.append(a[:, :seq_len])\n",
    "        trainY.append(a[:, -1])\n",
    "\n",
    "    for i in range(test_data.shape[1] - int(seq_len + pre_len - 1)):\n",
    "        b = test_data[:, i : i + seq_len + pre_len]\n",
    "        testX.append(b[:, :seq_len])\n",
    "        testY.append(b[:, -1])\n",
    "\n",
    "    trainX = np.array(trainX)\n",
    "    trainY = np.array(trainY)\n",
    "    testX = np.array(testX)\n",
    "    testY = np.array(testY)\n",
    "\n",
    "    return trainX, trainY, testX, testY"
   ]
  },
  {
   "cell_type": "code",
   "execution_count": 13,
   "metadata": {
    "id": "eb07fa73"
   },
   "outputs": [],
   "source": [
    "def prepare_train_data(df, grid_points_indices, train_size = 0.8):\n",
    "    train_data, test_data = train_test_split(df, grid_points_indices, train_size)\n",
    "    print(\"Train data: \", train_data.shape)\n",
    "    print(\"Test data: \", test_data.shape)\n",
    "    train_scaled, test_scaled = scale_data(train_data, test_data)\n",
    "    trainX, trainY, testX, testY = sequence_data_preparation(\n",
    "        seq_len, pre_len, train_scaled, test_scaled\n",
    "    )\n",
    "    print(trainX.shape)\n",
    "    print(trainY.shape)\n",
    "    print(testX.shape)\n",
    "    print(testY.shape)\n",
    "    return trainX, trainY, testX, testY, train_data"
   ]
  },
  {
   "cell_type": "markdown",
   "metadata": {
    "jp-MarkdownHeadingCollapsed": true,
    "tags": []
   },
   "source": [
    "# Training"
   ]
  },
  {
   "cell_type": "code",
   "execution_count": 14,
   "metadata": {},
   "outputs": [],
   "source": [
    "def my_loss(y_true, y_pred):\n",
    "    loss = torch.mean((y_pred[y_true>0]-y_true[y_true>0])**2)\n",
    "    return loss"
   ]
  },
  {
   "cell_type": "code",
   "execution_count": 15,
   "metadata": {},
   "outputs": [],
   "source": [
    "def eval_model(model, testX, testY):\n",
    "    output = model(torch.Tensor(testX))\n",
    "    ## actual train and test values\n",
    "    ## Rescale values\n",
    "    max_pm = train_data.max()\n",
    "    min_pm = train_data.min()\n",
    "    test_true = np.array((testY * (max_pm - min_pm)) + min_pm)\n",
    "    ## Rescale model predicted values\n",
    "    test_output = np.array((output.detach().numpy() * (max_pm - min_pm)) + min_pm)\n",
    "    # # Masked predicted values\\\n",
    "    mask_test = torch.sign(torch.Tensor(testY))\n",
    "    test_output = torch.Tensor(test_output)*(mask_test)\n",
    "    test_mse = my_loss(torch.Tensor(test_true), torch.Tensor(test_output))\n",
    "    test_rmse = torch.sqrt(test_mse)\n",
    "    print(\"Test RMSE: \", test_rmse)\n",
    "    return test_output, test_true"
   ]
  },
  {
   "cell_type": "code",
   "execution_count": 16,
   "metadata": {},
   "outputs": [],
   "source": [
    "def get_out_df(train_rmse, validation_rmse):\n",
    "    max_pm = train_data.max()\n",
    "    min_pm = train_data.min()\n",
    "    scale_factor = max_pm - min_pm\n",
    "    df = pd.DataFrame()\n",
    "    df['Mean Train loss'] = [sum(train_rmse)*scale_factor/len(train_rmse)]\n",
    "    df['Last Train loss'] = [train_rmse[-1]*scale_factor]\n",
    "    df['Mean Test loss'] = [sum(validation_rmse)*scale_factor/len(validation_rmse)]\n",
    "    df['Last Test loss'] = [validation_rmse[-1]*scale_factor]\n",
    "    # df['Train time callbacks'] = [sum(cb.logs)]\n",
    "    return df"
   ]
  },
  {
   "cell_type": "code",
   "execution_count": 17,
   "metadata": {},
   "outputs": [],
   "source": [
    "def plot_predictions(test_output, test_true, save_path=None):\n",
    "    ##all test result visualization\n",
    "    fig = plt.figure(figsize=(15, 8))\n",
    "    # test_output, test_true = eval(model, testX, testY )\n",
    "    a_pred = test_output[test_true>0]\n",
    "    a_true = test_true[test_true>0]\n",
    "    plt.plot(a_pred, \"r-\", label=\"prediction\")\n",
    "    plt.plot(a_true, \"b-\", label=\"true\")\n",
    "    plt.xlabel(\"test points\")\n",
    "    plt.ylabel(\"PM2.5\")\n",
    "    plt.legend(loc=\"best\", fontsize=10)\n",
    "    if save_path is not None:\n",
    "        plt.savefig(save_path)\n",
    "    else:\n",
    "        plt.show()"
   ]
  },
  {
   "cell_type": "markdown",
   "metadata": {
    "id": "0cXhHSBqSnPO",
    "tags": []
   },
   "source": [
    "# Initialize The Model"
   ]
  },
  {
   "cell_type": "code",
   "execution_count": 19,
   "metadata": {
    "id": "m-87DwIujc5w"
   },
   "outputs": [],
   "source": [
    "df = data_preparation('../dataset/Dec/2020-12-1_all.csv')\n",
    "for i in range(2, 8):\n",
    "    datafile = '../dataset/Dec/2020-12-'\n",
    "    datafile +=  str(i) if i<10 else str(i)\n",
    "    datafile +=  '_all.csv'\n",
    "    df1 = data_preparation(datafile)\n",
    "    df = pd.concat([df,df1], axis=1)\n",
    "    df = df.fillna(0)"
   ]
  },
  {
   "cell_type": "code",
   "execution_count": 20,
   "metadata": {},
   "outputs": [
    {
     "data": {
      "text/html": [
       "<div>\n",
       "<style scoped>\n",
       "    .dataframe tbody tr th:only-of-type {\n",
       "        vertical-align: middle;\n",
       "    }\n",
       "\n",
       "    .dataframe tbody tr th {\n",
       "        vertical-align: top;\n",
       "    }\n",
       "\n",
       "    .dataframe thead th {\n",
       "        text-align: right;\n",
       "    }\n",
       "</style>\n",
       "<table border=\"1\" class=\"dataframe\">\n",
       "  <thead>\n",
       "    <tr style=\"text-align: right;\">\n",
       "      <th></th>\n",
       "      <th>dateTime</th>\n",
       "      <th>360</th>\n",
       "      <th>540</th>\n",
       "      <th>720</th>\n",
       "      <th>900</th>\n",
       "      <th>1080</th>\n",
       "      <th>1260</th>\n",
       "      <th>360</th>\n",
       "      <th>540</th>\n",
       "      <th>720</th>\n",
       "      <th>900</th>\n",
       "      <th>...</th>\n",
       "      <th>720</th>\n",
       "      <th>900</th>\n",
       "      <th>1080</th>\n",
       "      <th>1260</th>\n",
       "      <th>360</th>\n",
       "      <th>540</th>\n",
       "      <th>720</th>\n",
       "      <th>900</th>\n",
       "      <th>1080</th>\n",
       "      <th>1260</th>\n",
       "    </tr>\n",
       "    <tr>\n",
       "      <th>lat_grid</th>\n",
       "      <th>long_grid</th>\n",
       "      <th></th>\n",
       "      <th></th>\n",
       "      <th></th>\n",
       "      <th></th>\n",
       "      <th></th>\n",
       "      <th></th>\n",
       "      <th></th>\n",
       "      <th></th>\n",
       "      <th></th>\n",
       "      <th></th>\n",
       "      <th></th>\n",
       "      <th></th>\n",
       "      <th></th>\n",
       "      <th></th>\n",
       "      <th></th>\n",
       "      <th></th>\n",
       "      <th></th>\n",
       "      <th></th>\n",
       "      <th></th>\n",
       "      <th></th>\n",
       "      <th></th>\n",
       "    </tr>\n",
       "  </thead>\n",
       "  <tbody>\n",
       "    <tr>\n",
       "      <th>0</th>\n",
       "      <th>22</th>\n",
       "      <td>276.161812</td>\n",
       "      <td>275.351426</td>\n",
       "      <td>208.073770</td>\n",
       "      <td>140.052632</td>\n",
       "      <td>201.723881</td>\n",
       "      <td>302.28</td>\n",
       "      <td>297.647059</td>\n",
       "      <td>254.285714</td>\n",
       "      <td>153.757812</td>\n",
       "      <td>124.133333</td>\n",
       "      <td>...</td>\n",
       "      <td>226.688025</td>\n",
       "      <td>131.059418</td>\n",
       "      <td>214.468085</td>\n",
       "      <td>244.442159</td>\n",
       "      <td>336.659274</td>\n",
       "      <td>303.189607</td>\n",
       "      <td>199.727273</td>\n",
       "      <td>165.345331</td>\n",
       "      <td>233.682670</td>\n",
       "      <td>272.544699</td>\n",
       "    </tr>\n",
       "    <tr>\n",
       "      <th rowspan=\"4\" valign=\"top\">1</th>\n",
       "      <th>20</th>\n",
       "      <td>0.000000</td>\n",
       "      <td>0.000000</td>\n",
       "      <td>0.000000</td>\n",
       "      <td>0.000000</td>\n",
       "      <td>0.000000</td>\n",
       "      <td>0.00</td>\n",
       "      <td>0.000000</td>\n",
       "      <td>0.000000</td>\n",
       "      <td>0.000000</td>\n",
       "      <td>0.000000</td>\n",
       "      <td>...</td>\n",
       "      <td>0.000000</td>\n",
       "      <td>0.000000</td>\n",
       "      <td>0.000000</td>\n",
       "      <td>0.000000</td>\n",
       "      <td>0.000000</td>\n",
       "      <td>0.000000</td>\n",
       "      <td>0.000000</td>\n",
       "      <td>0.000000</td>\n",
       "      <td>0.000000</td>\n",
       "      <td>0.000000</td>\n",
       "    </tr>\n",
       "    <tr>\n",
       "      <th>21</th>\n",
       "      <td>278.000000</td>\n",
       "      <td>301.393939</td>\n",
       "      <td>196.307692</td>\n",
       "      <td>130.140000</td>\n",
       "      <td>185.382353</td>\n",
       "      <td>308.75</td>\n",
       "      <td>0.000000</td>\n",
       "      <td>0.000000</td>\n",
       "      <td>136.357143</td>\n",
       "      <td>0.000000</td>\n",
       "      <td>...</td>\n",
       "      <td>230.888889</td>\n",
       "      <td>103.857143</td>\n",
       "      <td>211.500000</td>\n",
       "      <td>279.714286</td>\n",
       "      <td>350.055556</td>\n",
       "      <td>307.000000</td>\n",
       "      <td>220.076923</td>\n",
       "      <td>167.058824</td>\n",
       "      <td>230.776119</td>\n",
       "      <td>263.291139</td>\n",
       "    </tr>\n",
       "    <tr>\n",
       "      <th>22</th>\n",
       "      <td>273.241379</td>\n",
       "      <td>281.432432</td>\n",
       "      <td>203.779661</td>\n",
       "      <td>140.363636</td>\n",
       "      <td>188.000000</td>\n",
       "      <td>284.40</td>\n",
       "      <td>0.000000</td>\n",
       "      <td>0.000000</td>\n",
       "      <td>169.775510</td>\n",
       "      <td>0.000000</td>\n",
       "      <td>...</td>\n",
       "      <td>253.873016</td>\n",
       "      <td>91.536649</td>\n",
       "      <td>124.181818</td>\n",
       "      <td>253.390244</td>\n",
       "      <td>352.049587</td>\n",
       "      <td>301.425532</td>\n",
       "      <td>199.750000</td>\n",
       "      <td>171.651515</td>\n",
       "      <td>213.301205</td>\n",
       "      <td>278.990909</td>\n",
       "    </tr>\n",
       "    <tr>\n",
       "      <th>23</th>\n",
       "      <td>0.000000</td>\n",
       "      <td>0.000000</td>\n",
       "      <td>0.000000</td>\n",
       "      <td>0.000000</td>\n",
       "      <td>0.000000</td>\n",
       "      <td>0.00</td>\n",
       "      <td>0.000000</td>\n",
       "      <td>0.000000</td>\n",
       "      <td>0.000000</td>\n",
       "      <td>0.000000</td>\n",
       "      <td>...</td>\n",
       "      <td>0.000000</td>\n",
       "      <td>0.000000</td>\n",
       "      <td>0.000000</td>\n",
       "      <td>0.000000</td>\n",
       "      <td>0.000000</td>\n",
       "      <td>0.000000</td>\n",
       "      <td>267.200000</td>\n",
       "      <td>0.000000</td>\n",
       "      <td>0.000000</td>\n",
       "      <td>0.000000</td>\n",
       "    </tr>\n",
       "  </tbody>\n",
       "</table>\n",
       "<p>5 rows × 42 columns</p>\n",
       "</div>"
      ],
      "text/plain": [
       "dateTime                  360         540         720         900   \\\n",
       "lat_grid long_grid                                                   \n",
       "0        22         276.161812  275.351426  208.073770  140.052632   \n",
       "1        20           0.000000    0.000000    0.000000    0.000000   \n",
       "         21         278.000000  301.393939  196.307692  130.140000   \n",
       "         22         273.241379  281.432432  203.779661  140.363636   \n",
       "         23           0.000000    0.000000    0.000000    0.000000   \n",
       "\n",
       "dateTime                  1080    1260        360         540         720   \\\n",
       "lat_grid long_grid                                                           \n",
       "0        22         201.723881  302.28  297.647059  254.285714  153.757812   \n",
       "1        20           0.000000    0.00    0.000000    0.000000    0.000000   \n",
       "         21         185.382353  308.75    0.000000    0.000000  136.357143   \n",
       "         22         188.000000  284.40    0.000000    0.000000  169.775510   \n",
       "         23           0.000000    0.00    0.000000    0.000000    0.000000   \n",
       "\n",
       "dateTime                  900   ...        720         900         1080  \\\n",
       "lat_grid long_grid              ...                                       \n",
       "0        22         124.133333  ...  226.688025  131.059418  214.468085   \n",
       "1        20           0.000000  ...    0.000000    0.000000    0.000000   \n",
       "         21           0.000000  ...  230.888889  103.857143  211.500000   \n",
       "         22           0.000000  ...  253.873016   91.536649  124.181818   \n",
       "         23           0.000000  ...    0.000000    0.000000    0.000000   \n",
       "\n",
       "dateTime                  1260        360         540         720   \\\n",
       "lat_grid long_grid                                                   \n",
       "0        22         244.442159  336.659274  303.189607  199.727273   \n",
       "1        20           0.000000    0.000000    0.000000    0.000000   \n",
       "         21         279.714286  350.055556  307.000000  220.076923   \n",
       "         22         253.390244  352.049587  301.425532  199.750000   \n",
       "         23           0.000000    0.000000    0.000000  267.200000   \n",
       "\n",
       "dateTime                  900         1080        1260  \n",
       "lat_grid long_grid                                      \n",
       "0        22         165.345331  233.682670  272.544699  \n",
       "1        20           0.000000    0.000000    0.000000  \n",
       "         21         167.058824  230.776119  263.291139  \n",
       "         22         171.651515  213.301205  278.990909  \n",
       "         23           0.000000    0.000000    0.000000  \n",
       "\n",
       "[5 rows x 42 columns]"
      ]
     },
     "execution_count": 20,
     "metadata": {},
     "output_type": "execute_result"
    }
   ],
   "source": [
    "df.head()"
   ]
  },
  {
   "cell_type": "code",
   "execution_count": 21,
   "metadata": {},
   "outputs": [
    {
     "data": {
      "text/plain": [
       "(190, 42)"
      ]
     },
     "execution_count": 21,
     "metadata": {},
     "output_type": "execute_result"
    }
   ],
   "source": [
    "df.shape"
   ]
  },
  {
   "cell_type": "code",
   "execution_count": 22,
   "metadata": {
    "colab": {
     "base_uri": "https://localhost:8080/"
    },
    "id": "K-w7y9wAx_45",
    "outputId": "b6fb3286-0f45-4e57-facd-bca95c77d5bd"
   },
   "outputs": [
    {
     "name": "stdout",
     "output_type": "stream",
     "text": [
      "Train data:  (270, 36)\n",
      "Test data:  (270, 6)\n",
      "(33, 270, 3)\n",
      "(33, 270)\n",
      "(3, 270, 3)\n",
      "(3, 270)\n"
     ]
    }
   ],
   "source": [
    "trainX, trainY, testX, testY, train_data = prepare_train_data(df, grid_points_indices, train_size = 0.86)"
   ]
  },
  {
   "cell_type": "code",
   "execution_count": 23,
   "metadata": {},
   "outputs": [
    {
     "name": "stdout",
     "output_type": "stream",
     "text": [
      "(33, 270, 3) (33, 270) (3, 270, 3) (3, 270)\n"
     ]
    }
   ],
   "source": [
    "print(trainX.shape, trainY.shape, testX.shape, testY.shape)"
   ]
  },
  {
   "cell_type": "code",
   "execution_count": 24,
   "metadata": {},
   "outputs": [
    {
     "data": {
      "text/plain": [
       "((270, 3), (270,), (33, 270, 3), (33, 270))"
      ]
     },
     "execution_count": 24,
     "metadata": {},
     "output_type": "execute_result"
    }
   ],
   "source": [
    "trainX[0].shape, trainY[0].shape, trainX.shape, trainY.shape"
   ]
  },
  {
   "cell_type": "code",
   "execution_count": 25,
   "metadata": {},
   "outputs": [],
   "source": [
    "from gcn_lstm import GCN_LSTM\n",
    "import numpy as np\n",
    "import torch\n",
    "adj = adj.astype(np.float32)\n",
    "model=GCN_LSTM(torch.from_numpy(adj), grid_size = 270, seq_len = 3, gc_sizes = [4, 4], lstm_sizes = [4])\n",
    "optimizer = optim.Adam(model.parameters(), lr=0.05, betas=(0.9, 0.999), eps=1e-05)"
   ]
  },
  {
   "cell_type": "code",
   "execution_count": 26,
   "metadata": {},
   "outputs": [
    {
     "name": "stdout",
     "output_type": "stream",
     "text": [
      "<class 'torch.nn.parameter.Parameter'> torch.Size([270, 4])\n",
      "<class 'torch.nn.parameter.Parameter'> torch.Size([270])\n"
     ]
    }
   ],
   "source": [
    "for param in model.parameters():\n",
    "    print(type(param), param.size())"
   ]
  },
  {
   "cell_type": "code",
   "execution_count": 27,
   "metadata": {},
   "outputs": [],
   "source": [
    "\n",
    "def train_model(model, optimizer, trainX, trainY, testX, testY, n_epochs, batch_size):\n",
    "    # convert all data to tensor\n",
    "    trainX = torch.from_numpy(trainX.astype(np.float32))\n",
    "    trainY = torch.from_numpy(trainY.astype(np.float32))\n",
    "    testX = torch.from_numpy(testX.astype(np.float32))\n",
    "    testY = torch.from_numpy(testY.astype(np.float32))\n",
    "    \n",
    "    trainDs = TensorDataset(trainX, trainY)\n",
    "    testDs = TensorDataset(testX, testY)\n",
    "    trainLoader = DataLoader(trainDs, batch_size=batch_size, shuffle=True)\n",
    "    testLoader = DataLoader(testDs, batch_size=batch_size, shuffle=False)\n",
    "\n",
    "    train_mse, train_rmse, validation_mse, validation_rmse=[], [], [], []\n",
    "    for epoch in range(n_epochs):\n",
    "        train_loss = 0.0\n",
    "        valid_loss = 0.0\n",
    "        for _, (inputs, targets) in enumerate(trainLoader):\n",
    "            model.train()\n",
    "            outputs = model(inputs)\n",
    "            loss = my_loss(outputs, targets)\n",
    "            optimizer.zero_grad()\n",
    "            loss.backward()\n",
    "            optimizer.step()\n",
    "            train_loss += loss.item()*len(inputs)\n",
    "        \n",
    "        with torch.no_grad():\n",
    "            for _, (inputs, targets) in enumerate(testLoader):\n",
    "                model.eval()\n",
    "                outputs = model(inputs)\n",
    "                loss = my_loss(outputs, targets)\n",
    "                valid_loss += loss.item()*len(inputs)\n",
    "\n",
    "        train_loss /= len(trainX)\n",
    "        valid_loss /= len(testX)\n",
    "        train_mse.append(train_loss)\n",
    "        validation_mse.append(valid_loss)\n",
    "        train_rmse.append(math.sqrt(train_loss))\n",
    "        validation_rmse.append(math.sqrt(valid_loss))\n",
    "\n",
    "        if((epoch+1)%10==0):\n",
    "            print(f'Epoch {epoch+1} \\t Train Loss: ', {train_loss}, 'Valid Loss: ', {valid_loss})\n",
    "\n",
    "    return train_mse, train_rmse, validation_mse, validation_rmse"
   ]
  },
  {
   "cell_type": "code",
   "execution_count": 28,
   "metadata": {},
   "outputs": [
    {
     "name": "stdout",
     "output_type": "stream",
     "text": [
      "Epoch 10 \t Train Loss:  {0.020484173783298695} Valid Loss:  {0.01437216904014349}\n",
      "Epoch 20 \t Train Loss:  {0.016690669468406475} Valid Loss:  {0.013021789491176605}\n",
      "Epoch 30 \t Train Loss:  {0.01655417299744758} Valid Loss:  {0.012961288914084435}\n",
      "Epoch 40 \t Train Loss:  {0.015296964144164866} Valid Loss:  {0.01279233768582344}\n",
      "Epoch 50 \t Train Loss:  {0.015545917195126865} Valid Loss:  {0.012649983167648315}\n",
      "Epoch 60 \t Train Loss:  {0.01549618270699725} Valid Loss:  {0.013060828670859337}\n",
      "Epoch 70 \t Train Loss:  {0.01547951629441796} Valid Loss:  {0.012463351711630821}\n",
      "Epoch 80 \t Train Loss:  {0.015109130012040789} Valid Loss:  {0.01259293407201767}\n",
      "Epoch 90 \t Train Loss:  {0.015110044457921476} Valid Loss:  {0.012399704195559025}\n",
      "Epoch 100 \t Train Loss:  {0.015187402453386423} Valid Loss:  {0.012481310404837132}\n",
      "Epoch 110 \t Train Loss:  {0.015348195493447058} Valid Loss:  {0.01286329422146082}\n",
      "Epoch 120 \t Train Loss:  {0.015304150652479042} Valid Loss:  {0.01261412538588047}\n",
      "Epoch 130 \t Train Loss:  {0.015236720104109158} Valid Loss:  {0.012793970294296741}\n",
      "Epoch 140 \t Train Loss:  {0.014991246304954544} Valid Loss:  {0.012781941331923008}\n",
      "Epoch 150 \t Train Loss:  {0.015226504003459757} Valid Loss:  {0.012683387845754623}\n",
      "Epoch 160 \t Train Loss:  {0.015284597817243952} Valid Loss:  {0.012353971600532532}\n",
      "Epoch 170 \t Train Loss:  {0.015400729424348383} Valid Loss:  {0.012531794607639313}\n",
      "Epoch 180 \t Train Loss:  {0.015309409464173244} Valid Loss:  {0.012945661321282387}\n",
      "Epoch 190 \t Train Loss:  {0.015089531203336788} Valid Loss:  {0.01253687497228384}\n",
      "Epoch 200 \t Train Loss:  {0.015155926995882483} Valid Loss:  {0.012589231133460999}\n"
     ]
    },
    {
     "data": {
      "image/png": "[encoded data removed]",
      "text/plain": [
       "<Figure size 432x288 with 1 Axes>"
      ]
     },
     "metadata": {
      "needs_background": "light"
     },
     "output_type": "display_data"
    },
    {
     "data": {
      "text/html": [
       "<div>\n",
       "<style scoped>\n",
       "    .dataframe tbody tr th:only-of-type {\n",
       "        vertical-align: middle;\n",
       "    }\n",
       "\n",
       "    .dataframe tbody tr th {\n",
       "        vertical-align: top;\n",
       "    }\n",
       "\n",
       "    .dataframe thead th {\n",
       "        text-align: right;\n",
       "    }\n",
       "</style>\n",
       "<table border=\"1\" class=\"dataframe\">\n",
       "  <thead>\n",
       "    <tr style=\"text-align: right;\">\n",
       "      <th></th>\n",
       "      <th>Mean Train loss</th>\n",
       "      <th>Last Train loss</th>\n",
       "      <th>Mean Test loss</th>\n",
       "      <th>Last Test loss</th>\n",
       "    </tr>\n",
       "  </thead>\n",
       "  <tbody>\n",
       "    <tr>\n",
       "      <th>0</th>\n",
       "      <td>82.489055</td>\n",
       "      <td>79.17474</td>\n",
       "      <td>73.951027</td>\n",
       "      <td>72.159746</td>\n",
       "    </tr>\n",
       "  </tbody>\n",
       "</table>\n",
       "</div>"
      ],
      "text/plain": [
       "   Mean Train loss  Last Train loss  Mean Test loss  Last Test loss\n",
       "0        82.489055         79.17474       73.951027       72.159746"
      ]
     },
     "execution_count": 28,
     "metadata": {},
     "output_type": "execute_result"
    }
   ],
   "source": [
    "train_mse, train_rmse, validation_mse, validation_rmse = train_model(model, optimizer, trainX, trainY, testX, testY, 200, 5)\n",
    "from matplotlib import pyplot as plt\n",
    "plt.plot(np.arange(1, 201), train_mse, label='avg validation loss')\n",
    "plt.plot(np.arange(1, 201), validation_mse, label='avg training loss')\n",
    "plt.legend()\n",
    "plt.show()\n",
    "get_out_df(train_rmse, validation_rmse)"
   ]
  },
  {
   "cell_type": "code",
   "execution_count": 29,
   "metadata": {},
   "outputs": [
    {
     "data": {
      "text/plain": [
       "'1.10.1'"
      ]
     },
     "execution_count": 29,
     "metadata": {},
     "output_type": "execute_result"
    }
   ],
   "source": [
    "torch.__version__"
   ]
  },
  {
   "cell_type": "code",
   "execution_count": 30,
   "metadata": {},
   "outputs": [
    {
     "name": "stdout",
     "output_type": "stream",
     "text": [
      "Epoch 10 \t Train Loss:  {0.015000437753218594} Valid Loss:  {0.012313256040215492}\n",
      "Epoch 20 \t Train Loss:  {0.015073561815149857} Valid Loss:  {0.01221839152276516}\n",
      "Epoch 30 \t Train Loss:  {0.01502170137157946} Valid Loss:  {0.012591897509992123}\n",
      "Epoch 40 \t Train Loss:  {0.014965334878952213} Valid Loss:  {0.01260360423475504}\n",
      "Epoch 50 \t Train Loss:  {0.015021580920526476} Valid Loss:  {0.012582563795149326}\n",
      "Epoch 60 \t Train Loss:  {0.01500758726262685} Valid Loss:  {0.012276440858840942}\n",
      "Epoch 70 \t Train Loss:  {0.0149849479114919} Valid Loss:  {0.012622183188796043}\n",
      "Epoch 80 \t Train Loss:  {0.01509306032323476} Valid Loss:  {0.012836821377277374}\n",
      "Epoch 90 \t Train Loss:  {0.014958257786929607} Valid Loss:  {0.012351948767900467}\n",
      "Epoch 100 \t Train Loss:  {0.015101136639714241} Valid Loss:  {0.012372645549476147}\n"
     ]
    },
    {
     "data": {
      "image/png": "[encoded data removed]",
      "text/plain": [
       "<Figure size 432x288 with 1 Axes>"
      ]
     },
     "metadata": {
      "needs_background": "light"
     },
     "output_type": "display_data"
    },
    {
     "data": {
      "text/html": [
       "<div>\n",
       "<style scoped>\n",
       "    .dataframe tbody tr th:only-of-type {\n",
       "        vertical-align: middle;\n",
       "    }\n",
       "\n",
       "    .dataframe tbody tr th {\n",
       "        vertical-align: top;\n",
       "    }\n",
       "\n",
       "    .dataframe thead th {\n",
       "        text-align: right;\n",
       "    }\n",
       "</style>\n",
       "<table border=\"1\" class=\"dataframe\">\n",
       "  <thead>\n",
       "    <tr style=\"text-align: right;\">\n",
       "      <th></th>\n",
       "      <th>Mean Train loss</th>\n",
       "      <th>Last Train loss</th>\n",
       "      <th>Mean Test loss</th>\n",
       "      <th>Last Test loss</th>\n",
       "    </tr>\n",
       "  </thead>\n",
       "  <tbody>\n",
       "    <tr>\n",
       "      <th>0</th>\n",
       "      <td>78.877674</td>\n",
       "      <td>79.031497</td>\n",
       "      <td>71.885731</td>\n",
       "      <td>71.536334</td>\n",
       "    </tr>\n",
       "  </tbody>\n",
       "</table>\n",
       "</div>"
      ],
      "text/plain": [
       "   Mean Train loss  Last Train loss  Mean Test loss  Last Test loss\n",
       "0        78.877674        79.031497       71.885731       71.536334"
      ]
     },
     "execution_count": 30,
     "metadata": {},
     "output_type": "execute_result"
    }
   ],
   "source": [
    "train_mse, train_rmse, validation_mse, validation_rmse = train_model(model, optimizer, trainX, trainY, testX, testY, 100, 23)\n",
    "from matplotlib import pyplot as plt\n",
    "plt.plot(np.arange(1, 101), train_mse, label='avg validation loss')\n",
    "plt.plot(np.arange(1, 101), validation_mse, label='avg training loss')\n",
    "plt.legend()\n",
    "plt.show()\n",
    "get_out_df(train_rmse, validation_rmse)"
   ]
  },
  {
   "cell_type": "code",
   "execution_count": 31,
   "metadata": {},
   "outputs": [
    {
     "ename": "TypeError",
     "evalue": "train_model() missing 1 required positional argument: 'batch_size'",
     "output_type": "error",
     "traceback": [
      "\u001b[0;31m---------------------------------------------------------------------------\u001b[0m",
      "\u001b[0;31mTypeError\u001b[0m                                 Traceback (most recent call last)",
      "\u001b[0;32m<ipython-input-31-bba4345caac8>\u001b[0m in \u001b[0;36m<module>\u001b[0;34m\u001b[0m\n\u001b[0;32m----> 1\u001b[0;31m \u001b[0mtrain_mse\u001b[0m\u001b[0;34m,\u001b[0m \u001b[0mtrain_rmse\u001b[0m\u001b[0;34m,\u001b[0m \u001b[0mvalidation_mse\u001b[0m\u001b[0;34m,\u001b[0m \u001b[0mvalidation_rmse\u001b[0m \u001b[0;34m=\u001b[0m \u001b[0mtrain_model\u001b[0m\u001b[0;34m(\u001b[0m\u001b[0mmodel\u001b[0m\u001b[0;34m,\u001b[0m \u001b[0mtrainX\u001b[0m\u001b[0;34m,\u001b[0m \u001b[0mtrainY\u001b[0m\u001b[0;34m,\u001b[0m \u001b[0mtestX\u001b[0m\u001b[0;34m,\u001b[0m \u001b[0mtestY\u001b[0m\u001b[0;34m,\u001b[0m \u001b[0;36m100\u001b[0m\u001b[0;34m,\u001b[0m \u001b[0;36m23\u001b[0m\u001b[0;34m)\u001b[0m\u001b[0;34m\u001b[0m\u001b[0;34m\u001b[0m\u001b[0m\n\u001b[0m\u001b[1;32m      2\u001b[0m \u001b[0;32mfrom\u001b[0m \u001b[0mmatplotlib\u001b[0m \u001b[0;32mimport\u001b[0m \u001b[0mpyplot\u001b[0m \u001b[0;32mas\u001b[0m \u001b[0mplt\u001b[0m\u001b[0;34m\u001b[0m\u001b[0;34m\u001b[0m\u001b[0m\n\u001b[1;32m      3\u001b[0m \u001b[0mplt\u001b[0m\u001b[0;34m.\u001b[0m\u001b[0mplot\u001b[0m\u001b[0;34m(\u001b[0m\u001b[0mnp\u001b[0m\u001b[0;34m.\u001b[0m\u001b[0marange\u001b[0m\u001b[0;34m(\u001b[0m\u001b[0;36m1\u001b[0m\u001b[0;34m,\u001b[0m \u001b[0;36m101\u001b[0m\u001b[0;34m)\u001b[0m\u001b[0;34m,\u001b[0m \u001b[0mtrain_mse\u001b[0m\u001b[0;34m,\u001b[0m \u001b[0mlabel\u001b[0m\u001b[0;34m=\u001b[0m\u001b[0;34m'avg training loss'\u001b[0m\u001b[0;34m)\u001b[0m\u001b[0;34m\u001b[0m\u001b[0;34m\u001b[0m\u001b[0m\n\u001b[1;32m      4\u001b[0m \u001b[0mplt\u001b[0m\u001b[0;34m.\u001b[0m\u001b[0mplot\u001b[0m\u001b[0;34m(\u001b[0m\u001b[0mnp\u001b[0m\u001b[0;34m.\u001b[0m\u001b[0marange\u001b[0m\u001b[0;34m(\u001b[0m\u001b[0;36m1\u001b[0m\u001b[0;34m,\u001b[0m \u001b[0;36m101\u001b[0m\u001b[0;34m)\u001b[0m\u001b[0;34m,\u001b[0m \u001b[0mvalidation_mse\u001b[0m\u001b[0;34m,\u001b[0m \u001b[0mlabel\u001b[0m\u001b[0;34m=\u001b[0m\u001b[0;34m'avg validation loss'\u001b[0m\u001b[0;34m)\u001b[0m\u001b[0;34m\u001b[0m\u001b[0;34m\u001b[0m\u001b[0m\n\u001b[1;32m      5\u001b[0m \u001b[0mplt\u001b[0m\u001b[0;34m.\u001b[0m\u001b[0mlegend\u001b[0m\u001b[0;34m(\u001b[0m\u001b[0;34m)\u001b[0m\u001b[0;34m\u001b[0m\u001b[0;34m\u001b[0m\u001b[0m\n",
      "\u001b[0;31mTypeError\u001b[0m: train_model() missing 1 required positional argument: 'batch_size'"
     ]
    }
   ],
   "source": [
    "train_mse, train_rmse, validation_mse, validation_rmse = train_model(model, trainX, trainY, testX, testY, 100, 23)\n",
    "from matplotlib import pyplot as plt\n",
    "plt.plot(np.arange(1, 101), train_mse, label='avg training loss')\n",
    "plt.plot(np.arange(1, 101), validation_mse, label='avg validation loss')\n",
    "plt.legend()\n",
    "plt.show()\n",
    "get_out_df(train_rmse, validation_rmse)"
   ]
  },
  {
   "cell_type": "code",
   "execution_count": null,
   "metadata": {},
   "outputs": [],
   "source": [
    "train_mse, train_rmse, validation_mse, validation_rmse = train_model(trainX, trainY, testX, testY, 100, 23)\n",
    "from matplotlib import pyplot as plt\n",
    "plt.plot(np.arange(1, 101), train_mse, label='avg training loss')\n",
    "plt.plot(np.arange(1, 101), validation_mse, label='avg validation loss')\n",
    "plt.legend()\n",
    "plt.show()\n",
    "get_out_df(train_rmse, validation_rmse)"
   ]
  }
 ],
 "metadata": {
  "colab": {
   "collapsed_sections": [
    "w8v-XuEdwYtu",
    "E_mXhzz87keD"
   ],
   "name": "GCN-LSTM in PyTorch-Clean.ipynb",
   "provenance": []
  },
  "kernelspec": {
   "display_name": "Python 3.6.10 ('py37')",
   "language": "python",
   "name": "python3"
  },
  "language_info": {
   "codemirror_mode": {
    "name": "ipython",
    "version": 3
   },
   "file_extension": ".py",
   "mimetype": "text/x-python",
   "name": "python",
   "nbconvert_exporter": "python",
   "pygments_lexer": "ipython3",
   "version": "3.6.10"
  },
  "vscode": {
   "interpreter": {
    "hash": "b3f4bfce3322bb77dc3d30024aabc01f5d8c8e069adb1894b1673d2270c7557f"
   }
  }
 },
 "nbformat": 4,
 "nbformat_minor": 4
}
