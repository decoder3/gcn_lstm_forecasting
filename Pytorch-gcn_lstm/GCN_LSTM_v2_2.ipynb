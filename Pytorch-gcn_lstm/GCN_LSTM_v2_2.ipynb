{
 "cells": [
  {
   "cell_type": "code",
   "execution_count": 1,
   "metadata": {
    "id": "8HoBgkeJsFQf"
   },
   "outputs": [],
   "source": [
    "# !pip install --quiet optuna\n",
    "# !pip install --quiet stellargraph\n",
    "\n"
   ]
  },
  {
   "cell_type": "code",
   "execution_count": 2,
   "metadata": {
    "colab": {
     "base_uri": "https://localhost:8080/"
    },
    "id": "nygzV4y4D0qo",
    "outputId": "50c29833-3f32-405d-b4b1-09c4437dfd97"
   },
   "outputs": [
    {
     "name": "stderr",
     "output_type": "stream",
     "text": [
      "/Users/ramrap/miniconda/envs/btp/lib/python3.8/site-packages/tqdm/auto.py:22: TqdmWarning: IProgress not found. Please update jupyter and ipywidgets. See https://ipywidgets.readthedocs.io/en/stable/user_install.html\n",
      "  from .autonotebook import tqdm as notebook_tqdm\n"
     ]
    }
   ],
   "source": [
    "import os\n",
    "import optuna\n",
    "from optuna.trial import TrialState\n",
    "import pandas as pd\n",
    "import numpy as np\n",
    "import torch\n",
    "import random\n",
    "import math\n",
    "import torch.optim as optim\n",
    "from torch.utils.data import DataLoader, TensorDataset"
   ]
  },
  {
   "cell_type": "markdown",
   "metadata": {
    "id": "w8v-XuEdwYtu",
    "jp-MarkdownHeadingCollapsed": true,
    "tags": []
   },
   "source": [
    "# Data prep"
   ]
  },
  {
   "cell_type": "code",
   "execution_count": 3,
   "metadata": {
    "colab": {
     "base_uri": "https://localhost:8080/"
    },
    "id": "027d9ea6",
    "outputId": "2997026b-2490-4b39-943b-93ace10daae3"
   },
   "outputs": [
    {
     "name": "stdout",
     "output_type": "stream",
     "text": [
      "(270, 270)\n"
     ]
    }
   ],
   "source": [
    "from scipy.spatial.distance import pdist, squareform\n",
    "\n",
    "lat_range = {'min': 28.486, 'max': 28.72}\n",
    "long_range = {'min': 77.1, 'max': 77.32}\n",
    "n_lat_grid = 25\n",
    "n_long_grid = 25\n",
    "seq_len = 3\n",
    "pre_len = 1\n",
    "\n",
    "#adjacency matrix\n",
    "grid_points = pd.read_csv('./Data/grid_points_25.csv')\n",
    "n_grid_points = grid_points.shape[0] \n",
    "X = grid_points[[\"lat_grid\", \"long_grid\"]].to_numpy()\n",
    "f = lambda u, v: max(abs(u-v))<=1\n",
    "adj = squareform(pdist(X, f))\n",
    "eye = np.identity(n_grid_points)\n",
    "adj = adj+eye\n",
    "print(adj.shape) \n",
    "\n",
    "grid_points = grid_points.pivot_table(index=['lat_grid', 'long_grid'])\n",
    "grid_points_indices = grid_points.index"
   ]
  },
  {
   "cell_type": "code",
   "execution_count": 4,
   "metadata": {
    "id": "3119cb60"
   },
   "outputs": [],
   "source": [
    "def data_preparation(datafile):\n",
    "    #Put the file location\n",
    "    df = pd.read_csv(datafile)\n",
    "    #type casting\n",
    "    df.pm1_0 = df.pm1_0.astype(float)\n",
    "    df.pm2_5 = df.pm2_5.astype(float)\n",
    "    df.pm10 = df.pm10.astype(float)\n",
    "    df.lat = round(round(5*df.lat.astype(float),2)/5.0,3)\n",
    "    df.long= round(round(5*df.long.astype(float),2)/5.0,3)\n",
    "\n",
    "    # Ensuring Delhi region and removing outliers from data\n",
    "    # df = df[(df.lat.astype(int) == 28) &(df.long.astype(int) == 77)]\n",
    "    df = df[(df.lat >= lat_range['min']) & (df.lat <= lat_range['max']) & (df.long >= long_range['min']) & (df.long <= long_range['max'])]\n",
    "\n",
    "    df = df[(df.pm1_0<=1500) & (df.pm2_5<=1500) & (df.pm10<=1500) & (df.pm1_0>=20) & (df.pm2_5>=30) & (df.pm10>=30)]\n",
    "    #df = df[(df.humidity<=60)&(df.humidity>=7)]\n",
    "    # only PM2_5\n",
    "    df = df[['dateTime','temperature','humidity','lat','long','pm2_5']]\n",
    "\n",
    "    df['lat_grid'] = df.apply(lambda row: int((n_lat_grid-1)*(row.lat-lat_range['min'])/(lat_range['max']-lat_range['min'])), axis=1 )\n",
    "    df['long_grid'] = df.apply(lambda row: int((n_long_grid-1)*(row.long-long_range['min'])/(long_range['max']-long_range['min'])), axis=1 )\n",
    "    df['lat_grid'] = df['lat_grid'].astype(float).astype(int)\n",
    "    df['long_grid'] = df['long_grid'].astype(float).astype(int)\n",
    "\n",
    "    # rounding @120min\n",
    "    df.dateTime = pd.to_datetime(df.dateTime)\n",
    "    df.dateTime = df.dateTime.dt.round('180min')\n",
    "    # use time as a feature as well\n",
    "    df.dateTime = df.dateTime.dt.hour*60 + df.dateTime.dt.minute\n",
    "    df = df[(df.dateTime>=360)] \n",
    "\n",
    "    # only PM2_5\n",
    "#     df = df[['dateTime','lat_grid','long_grid','pm2_5\n",
    "    df = df.pivot_table(index=['lat_grid','long_grid'], columns='dateTime', aggfunc='mean')[['pm2_5', 'temperature', 'humidity']]   \n",
    "    columns = df.columns\n",
    "#     df = df[columns[2:]]\n",
    "    df = df.fillna(0)\n",
    "    \n",
    "    return df"
   ]
  },
  {
   "cell_type": "code",
   "execution_count": 5,
   "metadata": {
    "id": "862f1040"
   },
   "outputs": [],
   "source": [
    "def train_test_split(df, grid_points_indices, train_size):\n",
    "    # random.seed(10)\n",
    "    time_len = df.shape[1]\n",
    "    train_size = int(time_len * train_size) \n",
    "    train_data = df.iloc[:, :train_size]\n",
    "    train_data = train_data.reindex(grid_points_indices,fill_value=0)\n",
    "    train_data = np.array(train_data)\n",
    "    test_data = df.iloc[:, train_size:]\n",
    "    test_data = test_data.reindex(grid_points_indices,fill_value=0)\n",
    "    test_data = np.array(test_data)\n",
    "    return train_data, test_data"
   ]
  },
  {
   "cell_type": "code",
   "execution_count": 6,
   "metadata": {
    "id": "71d9f9ca"
   },
   "outputs": [],
   "source": [
    "def scale_data(train_data, test_data):\n",
    "    max_pm = train_data.max()\n",
    "    min_pm = train_data.min()\n",
    "    print(max_pm, min_pm)\n",
    "    train_scaled = (train_data - min_pm) / (max_pm - min_pm)\n",
    "    test_scaled = (test_data - min_pm) / (max_pm - min_pm)\n",
    "    return train_scaled, test_scaled"
   ]
  },
  {
   "cell_type": "code",
   "execution_count": 7,
   "metadata": {
    "id": "216e54f0"
   },
   "outputs": [],
   "source": [
    "from ctypes import sizeof\n",
    "\n",
    "\n",
    "def sequence_data_preparation(seq_len, pre_len, train_data_pm2_5, train_data_temp, train_data_hum, test_data_pm2_5, test_data_temp, test_data_hum):\n",
    "    trainX, trainY, testX, testY = [], [], [], []\n",
    "    \n",
    "    for i in range(train_data_pm2_5.shape[1] - int(seq_len + pre_len - 1)):\n",
    "        a = train_data_pm2_5[:, i : i + seq_len + pre_len]\n",
    "        b = train_data_temp[:, i : i + seq_len + pre_len]\n",
    "        c = train_data_hum[:, i : i + seq_len + pre_len]\n",
    "        \n",
    "        # d is dataframe \n",
    "        d = pd.DataFrame()\n",
    "        for i in range(seq_len):\n",
    "            d = pd.concat([d, pd.DataFrame(a[:,i])], axis=1)\n",
    "            d = pd.concat([d, pd.DataFrame(b[:,i])], axis=1)\n",
    "            d = pd.concat([d, pd.DataFrame(c[:,i])], axis=1)\n",
    "            \n",
    "        \n",
    "        \n",
    "        \n",
    "        # d = np.concatenate((a[:, :seq_len] , b[:, :seq_len] , c[:, :seq_len]), axis=1)\n",
    "       \n",
    "        \n",
    "     \n",
    "        \n",
    "        \n",
    "        \n",
    "        trainX.append(d)\n",
    "        trainY.append(a[:, -1])\n",
    "\n",
    "    for i in range(test_data_pm2_5.shape[1] - int(seq_len + pre_len - 1)):\n",
    "        a = test_data_pm2_5[:, i : i + seq_len + pre_len]\n",
    "        b = test_data_temp[:, i : i + seq_len + pre_len]\n",
    "        c = test_data_hum[:, i : i + seq_len + pre_len]\n",
    "        d = pd.DataFrame()\n",
    "        for i in range(seq_len):\n",
    "            d = pd.concat([d, pd.DataFrame(a[:,i])], axis=1)\n",
    "            d = pd.concat([d, pd.DataFrame(b[:,i])], axis=1)\n",
    "            d = pd.concat([d, pd.DataFrame(c[:,i])], axis=1)\n",
    "        # d = np.concatenate((a[:, :seq_len] , b[:, :seq_len] , c[:, :seq_len]), axis=1)\n",
    "        testX.append(d)\n",
    "        testY.append(a[:, -1])\n",
    "\n",
    "    trainX = np.array(trainX)\n",
    "    trainY = np.array(trainY)\n",
    "    testX = np.array(testX)\n",
    "    testY = np.array(testY)\n",
    "    \n",
    "    \n",
    "\n",
    "    \n",
    "    \n",
    "\n",
    "    # print(trainX)\n",
    "\n",
    "    return trainX, trainY, testX, testY\n",
    "\n",
    "# train_size = 0.86\n",
    "# train_data_pm2_5, test_data_pm2_5 = train_test_split(df_pm2_5, grid_points_indices, train_size)\n",
    "# train_data_temp, test_data_temp = train_test_split(df_temp, grid_points_indices, train_size)\n",
    "# train_data_hum, test_data_hum = train_test_split(df_hum, grid_points_indices, train_size)\n",
    "\n",
    "# train_scaled_pm2_5, test_scaled_pm2_5 = scale_data(train_data_pm2_5, test_data_pm2_5)\n",
    "# train_scaled_temp, test_scaled_temp = scale_data(train_data_temp, test_data_temp)\n",
    "# train_scaled_hum, test_scaled_hum = scale_data(train_data_hum, test_data_hum)\n",
    "\n",
    "# trainX, trainY, testX, testY = sequence_data_preparation(\n",
    "#     seq_len, pre_len, train_scaled_pm2_5, train_scaled_temp, train_scaled_hum, test_scaled_pm2_5, test_scaled_temp, test_scaled_hum)\n",
    "\n",
    "# print(trainX.shape)\n",
    "# print(trainY.shape)\n",
    "# print(testX.shape)\n",
    "# print(testY.shape)"
   ]
  },
  {
   "cell_type": "code",
   "execution_count": 8,
   "metadata": {
    "id": "eb07fa73"
   },
   "outputs": [],
   "source": [
    "def prepare_train_data(grid_points_indices, train_size = 0.8):\n",
    "    train_data_pm2_5, test_data_pm2_5 = train_test_split(df_pm2_5, grid_points_indices, train_size)\n",
    "    train_data_temp, test_data_temp = train_test_split(df_temp, grid_points_indices, train_size)\n",
    "    train_data_hum, test_data_hum = train_test_split(df_hum, grid_points_indices, train_size)\n",
    "\n",
    "    train_scaled_pm2_5, test_scaled_pm2_5 = scale_data(train_data_pm2_5, test_data_pm2_5)\n",
    "    train_scaled_temp, test_scaled_temp = scale_data(train_data_temp, test_data_temp)\n",
    "    train_scaled_hum, test_scaled_hum = scale_data(train_data_hum, test_data_hum)\n",
    "\n",
    "    trainX, trainY, testX, testY = sequence_data_preparation(\n",
    "        seq_len, pre_len, train_scaled_pm2_5, train_scaled_temp, train_scaled_hum, test_scaled_pm2_5, test_scaled_temp, test_scaled_hum)\n",
    "\n",
    "    print(trainX.shape)\n",
    "    print(trainY.shape)\n",
    "    print(testX.shape)\n",
    "    print(testY.shape)\n",
    "    return trainX, trainY, testX, testY, train_data_pm2_5"
   ]
  },
  {
   "cell_type": "markdown",
   "metadata": {
    "jp-MarkdownHeadingCollapsed": true,
    "tags": []
   },
   "source": [
    "# Training"
   ]
  },
  {
   "cell_type": "code",
   "execution_count": 9,
   "metadata": {},
   "outputs": [],
   "source": [
    "def my_loss(y_true, y_pred):\n",
    "    a = y_pred[y_true > 0] - y_true[y_true > 0]\n",
    "    return torch.sum(a**2), len(a)"
   ]
  },
  {
   "cell_type": "code",
   "execution_count": 10,
   "metadata": {},
   "outputs": [],
   "source": [
    "def eval_model(model, testX, testY):\n",
    "    output = model(torch.Tensor(testX))\n",
    "    ## actual train and test values\n",
    "    ## Rescale values\n",
    "    max_pm = train_data.max()\n",
    "    min_pm = train_data.min()\n",
    "    test_true = np.array((testY * (max_pm - min_pm)) + min_pm)\n",
    "    ## Rescale model predicted values\n",
    "    test_output = np.array((output.detach().numpy() * (max_pm - min_pm)) + min_pm)\n",
    "    # # Masked predicted values\\\n",
    "    mask_test = torch.sign(torch.Tensor(testY))\n",
    "    test_output = torch.Tensor(test_output)*(mask_test)\n",
    "    test_mse = my_loss(torch.Tensor(test_true), torch.Tensor(test_output))\n",
    "    test_rmse = torch.sqrt(test_mse)\n",
    "    print(\"Test RMSE: \", test_rmse)\n",
    "    return test_output, test_true"
   ]
  },
  {
   "cell_type": "code",
   "execution_count": 11,
   "metadata": {},
   "outputs": [],
   "source": [
    "def get_out_df(train_rmse, validation_rmse):\n",
    "    max_pm = train_data.max()\n",
    "    min_pm = train_data.min()\n",
    "    scale_factor = max_pm - min_pm\n",
    "    df = pd.DataFrame()\n",
    "    df['Mean Train loss'] = [sum(train_rmse)*scale_factor/len(train_rmse)]\n",
    "    df['Last Train loss'] = [train_rmse[-1]*scale_factor]\n",
    "    df['Mean Test loss'] = [sum(validation_rmse)*scale_factor/len(validation_rmse)]\n",
    "    df['Last Test loss'] = [validation_rmse[-1]*scale_factor]\n",
    "    # df['Train time callbacks'] = [sum(cb.logs)]\n",
    "    return df"
   ]
  },
  {
   "cell_type": "code",
   "execution_count": 12,
   "metadata": {},
   "outputs": [],
   "source": [
    "def plot_predictions(test_output, test_true, save_path=None):\n",
    "    ##all test result visualization\n",
    "    fig = plt.figure(figsize=(15, 8))\n",
    "    # test_output, test_true = eval(model, testX, testY )\n",
    "    a_pred = test_output[test_true>0]\n",
    "    a_true = test_true[test_true>0]\n",
    "    plt.plot(a_pred, \"r-\", label=\"prediction\")\n",
    "    plt.plot(a_true, \"b-\", label=\"true\")\n",
    "    plt.xlabel(\"test points\")\n",
    "    plt.ylabel(\"PM2.5\")\n",
    "    plt.legend(loc=\"best\", fontsize=10)\n",
    "    if save_path is not None:\n",
    "        plt.savefig(save_path)\n",
    "    else:\n",
    "        plt.show()"
   ]
  },
  {
   "cell_type": "markdown",
   "metadata": {
    "id": "0cXhHSBqSnPO",
    "tags": []
   },
   "source": [
    "# Initialize The Model"
   ]
  },
  {
   "cell_type": "code",
   "execution_count": 13,
   "metadata": {},
   "outputs": [],
   "source": [
    "# collect data for the whole three months, clean it and store it in a csv file\n",
    "# df = pd.DataFrame()\n",
    "# months = ['Nov', 'Dec', 'Jan']\n",
    "# month_code = ['11', '12', '01']\n",
    "# year = ['2020', '2020', '2021']\n",
    "# for i in range(3):\n",
    "#     x = '../dataset/%s/%s-%s-' % (months[i], year[i], month_code[i])\n",
    "#     for day in range(1, 32):\n",
    "#         file = '%s%s_all.csv' % (x, day)\n",
    "#         # check if file exists\n",
    "#         print(file)\n",
    "#         if(os.path.isfile(file)):\n",
    "#             df1 = data_preparation(file)\n",
    "#             df = pd.concat([df, df1], axis=1)\n",
    "# df.fillna(0, inplace=True)\n",
    "# # dump the data in pickle\n",
    "# df.to_pickle('../dataset/df.pkl')"
   ]
  },
  {
   "cell_type": "code",
   "execution_count": 14,
   "metadata": {},
   "outputs": [],
   "source": [
    "df = pd.read_pickle('./df.pkl')"
   ]
  },
  {
   "cell_type": "code",
   "execution_count": 15,
   "metadata": {},
   "outputs": [
    {
     "name": "stdout",
     "output_type": "stream",
     "text": [
      "df_pm2_5 dateTime                  360         540         720        900         1080  \\\n",
      "lat_grid long_grid                                                              \n",
      "0        21           0.000000    0.000000    0.000000   0.000000    0.000000   \n",
      "         22         502.792722  392.439383  135.177801  79.938086  100.638132   \n",
      "1        19           0.000000    0.000000    0.000000   0.000000    0.000000   \n",
      "         20           0.000000    0.000000    0.000000   0.000000    0.000000   \n",
      "         21         497.476190  419.319149  166.090909  80.000000  108.244898   \n",
      "...                        ...         ...         ...        ...         ...   \n",
      "23       8            0.000000    0.000000    0.000000   0.000000    0.000000   \n",
      "         13           0.000000    0.000000    0.000000   0.000000    0.000000   \n",
      "24       7            0.000000    0.000000    0.000000   0.000000    0.000000   \n",
      "         8            0.000000    0.000000    0.000000   0.000000    0.000000   \n",
      "         13           0.000000    0.000000    0.000000   0.000000    0.000000   \n",
      "\n",
      "dateTime                  1260        360         540         720   \\\n",
      "lat_grid long_grid                                                   \n",
      "0        21           0.000000    0.000000    0.000000    0.000000   \n",
      "         22         205.528261  128.358657  148.549903  202.062016   \n",
      "1        19           0.000000    0.000000    0.000000    0.000000   \n",
      "         20           0.000000    0.000000    0.000000    0.000000   \n",
      "         21         171.230769  133.385965  151.631579  210.848485   \n",
      "...                        ...         ...         ...         ...   \n",
      "23       8            0.000000    0.000000    0.000000    0.000000   \n",
      "         13           0.000000    0.000000    0.000000    0.000000   \n",
      "24       7            0.000000    0.000000    0.000000    0.000000   \n",
      "         8            0.000000    0.000000    0.000000    0.000000   \n",
      "         13           0.000000    0.000000    0.000000    0.000000   \n",
      "\n",
      "dateTime                  900   ...        720         900         1080  \\\n",
      "lat_grid long_grid              ...                                       \n",
      "0        21           0.000000  ...    0.000000    0.000000    0.000000   \n",
      "         22         157.617021  ...  105.038156   93.757282  130.309249   \n",
      "1        19         157.894737  ...    0.000000   99.888889    0.000000   \n",
      "         20         153.636364  ...    0.000000   91.833333    0.000000   \n",
      "         21         158.731959  ...  152.795276  101.432203  151.861111   \n",
      "...                        ...  ...         ...         ...         ...   \n",
      "23       8            0.000000  ...    0.000000    0.000000    0.000000   \n",
      "         13           0.000000  ...    0.000000    0.000000    0.000000   \n",
      "24       7            0.000000  ...    0.000000    0.000000    0.000000   \n",
      "         8            0.000000  ...    0.000000    0.000000    0.000000   \n",
      "         13           0.000000  ...    0.000000    0.000000    0.000000   \n",
      "\n",
      "dateTime                  1260        360         540         720   \\\n",
      "lat_grid long_grid                                                   \n",
      "0        21           0.000000    0.000000    0.000000    0.000000   \n",
      "         22         181.276503  204.010000  198.578138   99.790731   \n",
      "1        19         278.432203  180.190476  184.910714  137.782609   \n",
      "         20         223.668874  177.600000  188.203704  151.351064   \n",
      "         21         187.179167  179.355556  189.693277  114.776786   \n",
      "...                        ...         ...         ...         ...   \n",
      "23       8            0.000000    0.000000    0.000000    0.000000   \n",
      "         13           0.000000    0.000000    0.000000    0.000000   \n",
      "24       7            0.000000    0.000000    0.000000    0.000000   \n",
      "         8            0.000000    0.000000    0.000000    0.000000   \n",
      "         13           0.000000    0.000000    0.000000    0.000000   \n",
      "\n",
      "dateTime                  900         1080        1260  \n",
      "lat_grid long_grid                                      \n",
      "0        21           0.000000    0.000000    0.000000  \n",
      "         22          57.833974  119.529464  194.559428  \n",
      "1        19         108.424242  260.658537  346.479592  \n",
      "         20          94.962617  243.210526  261.909910  \n",
      "         21          72.503401  142.874016  225.062857  \n",
      "...                        ...         ...         ...  \n",
      "23       8            0.000000    0.000000    0.000000  \n",
      "         13           0.000000    0.000000    0.000000  \n",
      "24       7            0.000000    0.000000    0.000000  \n",
      "         8            0.000000    0.000000    0.000000  \n",
      "         13           0.000000    0.000000    0.000000  \n",
      "\n",
      "[268 rows x 516 columns]\n",
      "temp dateTime                 360        540        720        900        1080  \\\n",
      "lat_grid long_grid                                                          \n",
      "0        21          0.000000   0.000000   0.000000   0.000000   0.000000   \n",
      "         22         28.164810  33.199229  39.165653  41.068987  38.646148   \n",
      "1        19          0.000000   0.000000   0.000000   0.000000   0.000000   \n",
      "         20          0.000000   0.000000   0.000000   0.000000   0.000000   \n",
      "         21         28.107619  30.745106  36.227879  39.995152  37.761633   \n",
      "...                       ...        ...        ...        ...        ...   \n",
      "23       8           0.000000   0.000000   0.000000   0.000000   0.000000   \n",
      "         13          0.000000   0.000000   0.000000   0.000000   0.000000   \n",
      "24       7           0.000000   0.000000   0.000000   0.000000   0.000000   \n",
      "         8           0.000000   0.000000   0.000000   0.000000   0.000000   \n",
      "         13          0.000000   0.000000   0.000000   0.000000   0.000000   \n",
      "\n",
      "dateTime                 1260       360        540        720        900   \\\n",
      "lat_grid long_grid                                                          \n",
      "0        21          0.000000   0.000000   0.000000   0.000000   0.000000   \n",
      "         22         33.494391  28.348004  34.439152  38.373236  41.545775   \n",
      "1        19          0.000000   0.000000   0.000000   0.000000  42.906842   \n",
      "         20          0.000000   0.000000   0.000000   0.000000  42.780303   \n",
      "         21         31.639231  28.645789  32.886974  37.881061  41.837113   \n",
      "...                       ...        ...        ...        ...        ...   \n",
      "23       8           0.000000   0.000000   0.000000   0.000000   0.000000   \n",
      "         13          0.000000   0.000000   0.000000   0.000000   0.000000   \n",
      "24       7           0.000000   0.000000   0.000000   0.000000   0.000000   \n",
      "         8           0.000000   0.000000   0.000000   0.000000   0.000000   \n",
      "         13          0.000000   0.000000   0.000000   0.000000   0.000000   \n",
      "\n",
      "dateTime            ...       720        900        1080       1260  \\\n",
      "lat_grid long_grid  ...                                               \n",
      "0        21         ...   0.000000   0.000000   0.000000   0.000000   \n",
      "         22         ...  36.295294  37.895670  33.957818  31.937208   \n",
      "1        19         ...   0.000000  34.034444   0.000000  27.949746   \n",
      "         20         ...   0.000000  33.714167   0.000000  27.962583   \n",
      "         21         ...  32.514961  36.283051  32.827014  30.520417   \n",
      "...                 ...        ...        ...        ...        ...   \n",
      "23       8          ...   0.000000   0.000000   0.000000   0.000000   \n",
      "         13         ...   0.000000   0.000000   0.000000   0.000000   \n",
      "24       7          ...   0.000000   0.000000   0.000000   0.000000   \n",
      "         8          ...   0.000000   0.000000   0.000000   0.000000   \n",
      "         13         ...   0.000000   0.000000   0.000000   0.000000   \n",
      "\n",
      "dateTime                 360        540        720        900        1080  \\\n",
      "lat_grid long_grid                                                          \n",
      "0        21          0.000000   0.000000   0.000000   0.000000   0.000000   \n",
      "         22         21.089480  24.495944  33.883309  38.284676  33.497511   \n",
      "1        19         19.641905  24.923214  32.116087  35.843485  33.544878   \n",
      "         20         19.540800  25.246204  31.621383  35.760748  33.537105   \n",
      "         21         21.078333  24.793992  33.908036  36.528707  33.440157   \n",
      "...                       ...        ...        ...        ...        ...   \n",
      "23       8           0.000000   0.000000   0.000000   0.000000   0.000000   \n",
      "         13          0.000000   0.000000   0.000000   0.000000   0.000000   \n",
      "24       7           0.000000   0.000000   0.000000   0.000000   0.000000   \n",
      "         8           0.000000   0.000000   0.000000   0.000000   0.000000   \n",
      "         13          0.000000   0.000000   0.000000   0.000000   0.000000   \n",
      "\n",
      "dateTime                 1260  \n",
      "lat_grid long_grid             \n",
      "0        21          0.000000  \n",
      "         22         31.497349  \n",
      "1        19         28.190816  \n",
      "         20         28.307297  \n",
      "         21         30.562114  \n",
      "...                       ...  \n",
      "23       8           0.000000  \n",
      "         13          0.000000  \n",
      "24       7           0.000000  \n",
      "         8           0.000000  \n",
      "         13          0.000000  \n",
      "\n",
      "[268 rows x 516 columns]\n"
     ]
    }
   ],
   "source": [
    "df_pm2_5 = df['pm2_5']\n",
    "df_temp = df['temperature']\n",
    "df_hum = df['humidity']\n",
    "\n",
    "print(\"df_pm2_5\", df_pm2_5)\n",
    "# for i in df_pm2_5:\n",
    "#     print(i)\n",
    "print(\"temp\",df_temp)"
   ]
  },
  {
   "cell_type": "code",
   "execution_count": 16,
   "metadata": {
    "colab": {
     "base_uri": "https://localhost:8080/"
    },
    "id": "K-w7y9wAx_45",
    "outputId": "b6fb3286-0f45-4e57-facd-bca95c77d5bd"
   },
   "outputs": [
    {
     "name": "stdout",
     "output_type": "stream",
     "text": [
      "887.4905660377359 0.0\n",
      "185.42000000000004 0.0\n",
      "100.0 0.0\n",
      "(440, 270, 9)\n",
      "(440, 270)\n",
      "(70, 270, 9)\n",
      "(70, 270)\n"
     ]
    }
   ],
   "source": [
    "trainX, trainY, testX, testY, train_data = prepare_train_data(grid_points_indices, train_size = 0.86)"
   ]
  },
  {
   "cell_type": "code",
   "execution_count": 17,
   "metadata": {},
   "outputs": [
    {
     "name": "stderr",
     "output_type": "stream",
     "text": [
      "2022-09-13 18:32:02.061384: I tensorflow/core/platform/cpu_feature_guard.cc:193] This TensorFlow binary is optimized with oneAPI Deep Neural Network Library (oneDNN) to use the following CPU instructions in performance-critical operations:  AVX2 FMA\n",
      "To enable them in other operations, rebuild TensorFlow with the appropriate compiler flags.\n"
     ]
    }
   ],
   "source": [
    "from gcn_lstm import GCN_LSTM\n",
    "import numpy as np\n",
    "import torch\n",
    "adj = adj.astype(np.float32)\n",
    "model=GCN_LSTM(torch.from_numpy(adj), grid_size = 270, seq_len = 9, gc_sizes = [32,16,8], lstm_sizes = [8,4])\n",
    "optimizer = optim.Adam(model.parameters(), lr=0.01, betas=(0.9, 0.999), eps=1e-05)"
   ]
  },
  {
   "cell_type": "code",
   "execution_count": 18,
   "metadata": {},
   "outputs": [
    {
     "name": "stdout",
     "output_type": "stream",
     "text": [
      "<class 'torch.nn.parameter.Parameter'> torch.Size([270, 4])\n",
      "<class 'torch.nn.parameter.Parameter'> torch.Size([270])\n"
     ]
    }
   ],
   "source": [
    "for param in model.parameters():\n",
    "    print(type(param), param.size())"
   ]
  },
  {
   "cell_type": "code",
   "execution_count": 19,
   "metadata": {},
   "outputs": [],
   "source": [
    "\n",
    "def train_model(model, optimizer, trainX, trainY, testX, testY, n_epochs, batch_size):\n",
    "    # convert all data to tensor\n",
    "    trainX = torch.from_numpy(trainX.astype(np.float32))\n",
    "    trainY = torch.from_numpy(trainY.astype(np.float32))\n",
    "    testX = torch.from_numpy(testX.astype(np.float32))\n",
    "    testY = torch.from_numpy(testY.astype(np.float32))\n",
    "    \n",
    "    trainDs = TensorDataset(trainX, trainY)\n",
    "    testDs = TensorDataset(testX, testY)\n",
    "    trainLoader = DataLoader(trainDs, batch_size=batch_size, shuffle=True)\n",
    "    testLoader = DataLoader(testDs, batch_size=batch_size, shuffle=False)\n",
    "\n",
    "    train_mse, train_rmse, validation_mse, validation_rmse=[], [], [], []\n",
    "    for epoch in range(n_epochs):\n",
    "        train_loss = 0.0\n",
    "        valid_loss = 0.0\n",
    "        train_len = 0\n",
    "        valid_len = 0\n",
    "        for _, (inputs, targets) in enumerate(trainLoader):\n",
    "            model.train()\n",
    "            outputs = model(inputs)\n",
    "            loss, tlen = my_loss(outputs, targets)\n",
    "            optimizer.zero_grad()\n",
    "            loss.backward()\n",
    "            optimizer.step()\n",
    "            train_loss += loss.item()\n",
    "            train_len += tlen\n",
    "        \n",
    "        with torch.no_grad():\n",
    "            for _, (inputs, targets) in enumerate(testLoader):\n",
    "                model.eval()\n",
    "                outputs = model(inputs)\n",
    "                loss, tlen = my_loss(outputs, targets)\n",
    "                valid_loss += loss.item()\n",
    "                valid_len += tlen\n",
    "\n",
    "        train_loss /= train_len\n",
    "        valid_loss /= valid_len\n",
    "        train_mse.append(train_loss)\n",
    "        validation_mse.append(valid_loss)\n",
    "        train_rmse.append(math.sqrt(train_loss))\n",
    "        validation_rmse.append(math.sqrt(valid_loss))\n",
    "\n",
    "        if((epoch+1)%10==0):\n",
    "            print(f'Epoch {epoch+1} \\t Train Loss: ', {train_loss}, 'Valid Loss: ', {valid_loss})\n",
    "\n",
    "    return train_mse, train_rmse, validation_mse, validation_rmse"
   ]
  },
  {
   "cell_type": "code",
   "execution_count": 20,
   "metadata": {},
   "outputs": [
    {
     "name": "stdout",
     "output_type": "stream",
     "text": [
      "Epoch 10 \t Train Loss:  {0.019609363889854764} Valid Loss:  {0.011228800374994833}\n",
      "Epoch 20 \t Train Loss:  {0.013048324263858473} Valid Loss:  {0.007223876317342123}\n",
      "Epoch 30 \t Train Loss:  {0.011029848073066686} Valid Loss:  {0.006440571981763083}\n",
      "Epoch 40 \t Train Loss:  {0.010327778247871785} Valid Loss:  {0.006159504885395998}\n",
      "Epoch 50 \t Train Loss:  {0.009760551773739181} Valid Loss:  {0.00603054990213384}\n",
      "Epoch 60 \t Train Loss:  {0.00950961035911483} Valid Loss:  {0.005962642033894857}\n",
      "Epoch 70 \t Train Loss:  {0.009375810125460127} Valid Loss:  {0.005919065324086992}\n",
      "Epoch 80 \t Train Loss:  {0.009304346283678254} Valid Loss:  {0.0059053912490763995}\n",
      "Epoch 90 \t Train Loss:  {0.009204625794381806} Valid Loss:  {0.005907945077886026}\n",
      "Epoch 100 \t Train Loss:  {0.009121080343972151} Valid Loss:  {0.005906179518926712}\n"
     ]
    },
    {
     "data": {
      "image/png": "[encoded data removed]",
      "text/plain": [
       "<Figure size 432x288 with 1 Axes>"
      ]
     },
     "metadata": {
      "needs_background": "light"
     },
     "output_type": "display_data"
    }
   ],
   "source": [
    "train_mse, train_rmse, validation_mse, validation_rmse = train_model(model, optimizer, trainX, trainY, testX, testY, 100, 20)\n",
    "from matplotlib import pyplot as plt\n",
    "plt.plot(np.arange(1, 101), train_mse, label='avg training loss')\n",
    "plt.plot(np.arange(1, 101), validation_mse, label='avg validation loss')\n",
    "plt.legend()\n",
    "plt.show()"
   ]
  },
  {
   "cell_type": "code",
   "execution_count": 21,
   "metadata": {},
   "outputs": [
    {
     "data": {
      "text/plain": [
       "array([0.        , 0.09007204, 0.        , 0.        , 0.0901418 ,\n",
       "       0.09168873, 0.        , 0.        , 0.        , 0.        ,\n",
       "       0.        , 0.        , 0.10074794, 0.07605715, 0.        ,\n",
       "       0.        , 0.        , 0.        , 0.        , 0.        ,\n",
       "       0.08018865, 0.09328407, 0.        , 0.        , 0.        ,\n",
       "       0.        , 0.        , 0.        , 0.08869089, 0.        ,\n",
       "       0.        , 0.        , 0.        , 0.        , 0.        ,\n",
       "       0.        , 0.        , 0.        , 0.08768104, 0.08910171,\n",
       "       0.        , 0.        , 0.        , 0.        , 0.        ,\n",
       "       0.        , 0.        , 0.        , 0.        , 0.        ,\n",
       "       0.09933627, 0.08509181, 0.08647559, 0.        , 0.        ,\n",
       "       0.        , 0.        , 0.        , 0.        , 0.        ,\n",
       "       0.        , 0.        , 0.        , 0.        , 0.09475133,\n",
       "       0.09417279, 0.08492809, 0.        , 0.        , 0.        ,\n",
       "       0.        , 0.        , 0.        , 0.        , 0.        ,\n",
       "       0.        , 0.        , 0.        , 0.09396974, 0.09671146,\n",
       "       0.12079633, 0.07937487, 0.08102519, 0.        , 0.        ,\n",
       "       0.        , 0.        , 0.        , 0.        , 0.        ,\n",
       "       0.        , 0.        , 0.        , 0.08881016, 0.        ,\n",
       "       0.09779447, 0.0812403 , 0.        , 0.        , 0.        ,\n",
       "       0.        , 0.        , 0.        , 0.        , 0.        ,\n",
       "       0.08769324, 0.        , 0.07599887, 0.        , 0.        ,\n",
       "       0.        , 0.        , 0.        , 0.        , 0.        ,\n",
       "       0.        , 0.        , 0.        , 0.        , 0.08508357,\n",
       "       0.        , 0.07303901, 0.0698599 , 0.        , 0.        ,\n",
       "       0.        , 0.        , 0.        , 0.        , 0.        ,\n",
       "       0.        , 0.        , 0.        , 0.        , 0.        ,\n",
       "       0.        , 0.        , 0.09443671, 0.        , 0.06835753,\n",
       "       0.06672103, 0.        , 0.        , 0.        , 0.        ,\n",
       "       0.        , 0.        , 0.        , 0.        , 0.        ,\n",
       "       0.        , 0.        , 0.09031665, 0.        , 0.06478942,\n",
       "       0.07449218, 0.        , 0.        , 0.        , 0.        ,\n",
       "       0.        , 0.        , 0.        , 0.        , 0.        ,\n",
       "       0.        , 0.        , 0.        , 0.        , 0.        ,\n",
       "       0.12353053, 0.0885999 , 0.09003937, 0.087474  , 0.09631626,\n",
       "       0.08394455, 0.        , 0.        , 0.        , 0.        ,\n",
       "       0.        , 0.        , 0.        , 0.        , 0.        ,\n",
       "       0.        , 0.10214506, 0.        , 0.        , 0.        ,\n",
       "       0.09580881, 0.10512995, 0.09829608, 0.        , 0.09482224,\n",
       "       0.        , 0.        , 0.        , 0.        , 0.        ,\n",
       "       0.        , 0.        , 0.        , 0.1111528 , 0.        ,\n",
       "       0.        , 0.        , 0.        , 0.09096127, 0.09225227,\n",
       "       0.08539718, 0.08112762, 0.        , 0.        , 0.12585527,\n",
       "       0.1157524 , 0.        , 0.        , 0.        , 0.09096723,\n",
       "       0.09255632, 0.08063184, 0.08265681, 0.08416729, 0.        ,\n",
       "       0.        , 0.        , 0.1142878 , 0.1109929 , 0.        ,\n",
       "       0.        , 0.        , 0.09024122, 0.09149199, 0.09941353,\n",
       "       0.1045204 , 0.        , 0.        , 0.        , 0.        ,\n",
       "       0.        , 0.        , 0.        , 0.        , 0.        ,\n",
       "       0.        , 0.08750351, 0.08612385, 0.        , 0.        ,\n",
       "       0.        , 0.        , 0.        , 0.        , 0.        ,\n",
       "       0.        , 0.        , 0.        , 0.        , 0.        ,\n",
       "       0.        , 0.        , 0.        , 0.        , 0.        ,\n",
       "       0.        , 0.        , 0.        , 0.        , 0.        ])"
      ]
     },
     "execution_count": 21,
     "metadata": {},
     "output_type": "execute_result"
    }
   ],
   "source": [
    "trainY[0]"
   ]
  },
  {
   "cell_type": "code",
   "execution_count": 22,
   "metadata": {},
   "outputs": [],
   "source": [
    "predY0 = model(torch.tensor(trainX[0]).float().unsqueeze(0))"
   ]
  },
  {
   "cell_type": "code",
   "execution_count": 23,
   "metadata": {},
   "outputs": [
    {
     "data": {
      "text/plain": [
       "tensor([[0.0126, 0.2124, 0.0961, 0.0972, 0.1990, 0.2013, 0.0096, 0.0102, 0.0117,\n",
       "         0.0134, 0.0941, 0.0110, 0.2043, 0.0843, 0.0097, 0.0137, 0.0093, 0.0123,\n",
       "         0.0857, 0.0905, 0.1907, 0.2017, 0.0138, 0.0114, 0.0116, 0.0125, 0.0963,\n",
       "         0.0104, 0.2005, 0.0114, 0.0117, 0.0427, 0.0364, 0.0092, 0.0116, 0.0105,\n",
       "         0.0948, 0.0966, 0.2013, 0.1975, 0.0092, 0.0119, 0.0466, 0.0549, 0.0570,\n",
       "         0.0533, 0.0124, 0.0111, 0.0117, 0.0129, 0.1901, 0.1997, 0.2021, 0.0665,\n",
       "         0.0738, 0.0108, 0.0501, 0.0570, 0.0103, 0.0111, 0.0588, 0.0124, 0.0140,\n",
       "         0.0112, 0.1951, 0.1991, 0.1993, 0.0596, 0.0689, 0.0729, 0.0507, 0.0506,\n",
       "         0.1656, 0.1726, 0.1733, 0.1801, 0.1798, 0.1875, 0.1949, 0.1973, 0.1981,\n",
       "         0.1702, 0.1447, 0.0694, 0.0400, 0.0422, 0.1741, 0.0095, 0.0118, 0.0108,\n",
       "         0.1335, 0.1521, 0.1579, 0.1858, 0.0278, 0.1725, 0.1584, 0.1729, 0.1643,\n",
       "         0.0121, 0.0129, 0.0117, 0.1295, 0.1299, 0.1236, 0.1902, 0.0633, 0.1643,\n",
       "         0.0284, 0.0114, 0.1424, 0.1618, 0.0092, 0.0115, 0.0116, 0.0117, 0.1215,\n",
       "         0.0107, 0.1036, 0.1916, 0.0113, 0.1523, 0.1369, 0.0087, 0.0123, 0.0417,\n",
       "         0.1026, 0.0997, 0.0964, 0.0123, 0.0095, 0.0117, 0.0094, 0.0131, 0.1261,\n",
       "         0.0105, 0.1378, 0.1963, 0.0095, 0.1443, 0.1465, 0.0118, 0.1005, 0.0462,\n",
       "         0.0115, 0.0128, 0.0113, 0.0126, 0.0112, 0.1235, 0.0123, 0.0096, 0.1962,\n",
       "         0.0121, 0.1139, 0.1553, 0.1056, 0.0184, 0.1086, 0.0120, 0.0079, 0.0114,\n",
       "         0.0106, 0.0117, 0.0099, 0.0140, 0.0093, 0.1326, 0.1143, 0.0120, 0.2051,\n",
       "         0.1601, 0.1573, 0.1886, 0.1906, 0.1376, 0.0263, 0.0251, 0.1092, 0.0090,\n",
       "         0.0105, 0.0117, 0.0140, 0.1040, 0.1373, 0.0121, 0.1717, 0.0144, 0.0110,\n",
       "         0.0117, 0.1846, 0.1949, 0.1885, 0.0090, 0.1305, 0.1044, 0.1054, 0.0121,\n",
       "         0.0129, 0.0103, 0.0131, 0.1141, 0.0111, 0.1731, 0.0111, 0.0123, 0.0103,\n",
       "         0.0134, 0.1920, 0.1444, 0.1551, 0.1233, 0.1068, 0.1084, 0.1688, 0.1652,\n",
       "         0.0123, 0.0119, 0.0141, 0.1666, 0.1542, 0.1395, 0.1345, 0.1405, 0.1175,\n",
       "         0.0187, 0.0145, 0.1730, 0.1580, 0.0158, 0.0139, 0.0090, 0.1568, 0.1645,\n",
       "         0.1133, 0.1269, 0.0125, 0.0120, 0.0119, 0.0128, 0.0105, 0.0075, 0.0134,\n",
       "         0.0129, 0.0126, 0.0140, 0.1640, 0.1672, 0.0120, 0.0131, 0.0124, 0.0110,\n",
       "         0.0091, 0.0102, 0.0093, 0.0093, 0.0094, 0.0098, 0.0128, 0.0135, 0.0120,\n",
       "         0.0103, 0.0127, 0.0100, 0.0100, 0.0116, 0.0124, 0.0095, 0.0091, 0.0131]],\n",
       "       grad_fn=<SigmoidBackward0>)"
      ]
     },
     "execution_count": 23,
     "metadata": {},
     "output_type": "execute_result"
    }
   ],
   "source": [
    "predY0"
   ]
  },
  {
   "cell_type": "code",
   "execution_count": 24,
   "metadata": {},
   "outputs": [
    {
     "name": "stdout",
     "output_type": "stream",
     "text": [
      "Epoch 10 \t Train Loss:  {0.00911008985757025} Valid Loss:  {0.005904540914707083}\n",
      "Epoch 20 \t Train Loss:  {0.008985491312714138} Valid Loss:  {0.005909752366404054}\n",
      "Epoch 30 \t Train Loss:  {0.008982046557596638} Valid Loss:  {0.005930571934533497}\n",
      "Epoch 40 \t Train Loss:  {0.008936646169283574} Valid Loss:  {0.0059235669696141805}\n",
      "Epoch 50 \t Train Loss:  {0.008998157183329265} Valid Loss:  {0.005944879319932725}\n",
      "Epoch 60 \t Train Loss:  {0.008994073466419773} Valid Loss:  {0.005949449438266653}\n",
      "Epoch 70 \t Train Loss:  {0.008983596727904246} Valid Loss:  {0.005941995893205915}\n",
      "Epoch 80 \t Train Loss:  {0.008914241325172913} Valid Loss:  {0.0059426001896933905}\n",
      "Epoch 90 \t Train Loss:  {0.008877958239931049} Valid Loss:  {0.005941032732605303}\n",
      "Epoch 100 \t Train Loss:  {0.008954943791784421} Valid Loss:  {0.0059423314957391645}\n"
     ]
    },
    {
     "data": {
      "image/png": "[encoded data removed]",
      "text/plain": [
       "<Figure size 432x288 with 1 Axes>"
      ]
     },
     "metadata": {
      "needs_background": "light"
     },
     "output_type": "display_data"
    },
    {
     "data": {
      "text/html": [
       "<div>\n",
       "<style scoped>\n",
       "    .dataframe tbody tr th:only-of-type {\n",
       "        vertical-align: middle;\n",
       "    }\n",
       "\n",
       "    .dataframe tbody tr th {\n",
       "        vertical-align: top;\n",
       "    }\n",
       "\n",
       "    .dataframe thead th {\n",
       "        text-align: right;\n",
       "    }\n",
       "</style>\n",
       "<table border=\"1\" class=\"dataframe\">\n",
       "  <thead>\n",
       "    <tr style=\"text-align: right;\">\n",
       "      <th></th>\n",
       "      <th>Mean Train loss</th>\n",
       "      <th>Last Train loss</th>\n",
       "      <th>Mean Test loss</th>\n",
       "      <th>Last Test loss</th>\n",
       "    </tr>\n",
       "  </thead>\n",
       "  <tbody>\n",
       "    <tr>\n",
       "      <th>0</th>\n",
       "      <td>84.202539</td>\n",
       "      <td>83.983734</td>\n",
       "      <td>68.393092</td>\n",
       "      <td>68.413559</td>\n",
       "    </tr>\n",
       "  </tbody>\n",
       "</table>\n",
       "</div>"
      ],
      "text/plain": [
       "   Mean Train loss  Last Train loss  Mean Test loss  Last Test loss\n",
       "0        84.202539        83.983734       68.393092       68.413559"
      ]
     },
     "execution_count": 24,
     "metadata": {},
     "output_type": "execute_result"
    }
   ],
   "source": [
    "train_mse, train_rmse, validation_mse, validation_rmse = train_model(model, optimizer, trainX, trainY, testX, testY, 100, 20)\n",
    "from matplotlib import pyplot as plt\n",
    "plt.plot(np.arange(1, 101), train_mse, label='avg validation loss')\n",
    "plt.plot(np.arange(1, 101), validation_mse, label='avg training loss')\n",
    "plt.legend()\n",
    "plt.show()\n",
    "get_out_df(train_rmse, validation_rmse)"
   ]
  },
  {
   "cell_type": "code",
   "execution_count": 25,
   "metadata": {},
   "outputs": [
    {
     "name": "stdout",
     "output_type": "stream",
     "text": [
      "Epoch 10 \t Train Loss:  {0.008860568618934965} Valid Loss:  {0.005923697109575625}\n",
      "Epoch 20 \t Train Loss:  {0.008942458432932895} Valid Loss:  {0.005920341317615812}\n",
      "Epoch 30 \t Train Loss:  {0.008921467559506195} Valid Loss:  {0.00592324833390574}\n",
      "Epoch 40 \t Train Loss:  {0.00890937515782186} Valid Loss:  {0.0059254628514486644}\n",
      "Epoch 50 \t Train Loss:  {0.008936127697177207} Valid Loss:  {0.00594114310526974}\n",
      "Epoch 60 \t Train Loss:  {0.008897683837197044} Valid Loss:  {0.005908262407968915}\n",
      "Epoch 70 \t Train Loss:  {0.008934875786906542} Valid Loss:  {0.00594542767004992}\n",
      "Epoch 80 \t Train Loss:  {0.008900287524618284} Valid Loss:  {0.005934463499715089}\n",
      "Epoch 90 \t Train Loss:  {0.008895778527564874} Valid Loss:  {0.005921622811171113}\n",
      "Epoch 100 \t Train Loss:  {0.008857742608195603} Valid Loss:  {0.005923581962232236}\n"
     ]
    },
    {
     "data": {
      "image/png": "[encoded data removed]",
      "text/plain": [
       "<Figure size 432x288 with 1 Axes>"
      ]
     },
     "metadata": {
      "needs_background": "light"
     },
     "output_type": "display_data"
    },
    {
     "data": {
      "text/html": [
       "<div>\n",
       "<style scoped>\n",
       "    .dataframe tbody tr th:only-of-type {\n",
       "        vertical-align: middle;\n",
       "    }\n",
       "\n",
       "    .dataframe tbody tr th {\n",
       "        vertical-align: top;\n",
       "    }\n",
       "\n",
       "    .dataframe thead th {\n",
       "        text-align: right;\n",
       "    }\n",
       "</style>\n",
       "<table border=\"1\" class=\"dataframe\">\n",
       "  <thead>\n",
       "    <tr style=\"text-align: right;\">\n",
       "      <th></th>\n",
       "      <th>Mean Train loss</th>\n",
       "      <th>Last Train loss</th>\n",
       "      <th>Mean Test loss</th>\n",
       "      <th>Last Test loss</th>\n",
       "    </tr>\n",
       "  </thead>\n",
       "  <tbody>\n",
       "    <tr>\n",
       "      <th>0</th>\n",
       "      <td>83.786191</td>\n",
       "      <td>83.52669</td>\n",
       "      <td>68.386422</td>\n",
       "      <td>68.305543</td>\n",
       "    </tr>\n",
       "  </tbody>\n",
       "</table>\n",
       "</div>"
      ],
      "text/plain": [
       "   Mean Train loss  Last Train loss  Mean Test loss  Last Test loss\n",
       "0        83.786191         83.52669       68.386422       68.305543"
      ]
     },
     "execution_count": 25,
     "metadata": {},
     "output_type": "execute_result"
    }
   ],
   "source": [
    "train_mse, train_rmse, validation_mse, validation_rmse = train_model(model,optimizer, trainX, trainY, testX, testY, 100, 23)\n",
    "from matplotlib import pyplot as plt\n",
    "plt.plot(np.arange(1, 101), train_mse, label='avg training loss')\n",
    "plt.plot(np.arange(1, 101), validation_mse, label='avg validation loss')\n",
    "plt.legend()\n",
    "plt.show()\n",
    "get_out_df(train_rmse, validation_rmse)"
   ]
  }
 ],
 "metadata": {
  "colab": {
   "collapsed_sections": [
    "w8v-XuEdwYtu",
    "E_mXhzz87keD"
   ],
   "name": "GCN-LSTM in PyTorch-Clean.ipynb",
   "provenance": []
  },
  "kernelspec": {
   "display_name": "Python 3.8.13",
   "language": "python",
   "name": "python3"
  },
  "language_info": {
   "codemirror_mode": {
    "name": "ipython",
    "version": 3
   },
   "file_extension": ".py",
   "mimetype": "text/x-python",
   "name": "python",
   "nbconvert_exporter": "python",
   "pygments_lexer": "ipython3",
   "version": "3.8.13"
  },
  "vscode": {
   "interpreter": {
    "hash": "4100cdcb706d22586bb6f8f0bc8c616c9f1b59973b38f5e58a12680baaed07d0"
   }
  }
 },
 "nbformat": 4,
 "nbformat_minor": 4
}
