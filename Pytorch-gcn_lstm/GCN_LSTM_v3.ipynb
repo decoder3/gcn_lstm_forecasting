{
 "cells": [
  {
   "cell_type": "code",
   "execution_count": 1,
   "metadata": {
    "id": "8HoBgkeJsFQf"
   },
   "outputs": [],
   "source": [
    "# !pip install --quiet optuna\n",
    "# !pip install --quiet stellargraph\n",
    "\n"
   ]
  },
  {
   "cell_type": "code",
   "execution_count": 2,
   "metadata": {
    "colab": {
     "base_uri": "https://localhost:8080/"
    },
    "id": "nygzV4y4D0qo",
    "outputId": "50c29833-3f32-405d-b4b1-09c4437dfd97"
   },
   "outputs": [
    {
     "name": "stderr",
     "output_type": "stream",
     "text": [
      "/Users/ramrap/miniconda/envs/btp/lib/python3.8/site-packages/tqdm/auto.py:22: TqdmWarning: IProgress not found. Please update jupyter and ipywidgets. See https://ipywidgets.readthedocs.io/en/stable/user_install.html\n",
      "  from .autonotebook import tqdm as notebook_tqdm\n"
     ]
    }
   ],
   "source": [
    "import os\n",
    "import optuna\n",
    "from optuna.trial import TrialState\n",
    "import pandas as pd\n",
    "import numpy as np\n",
    "import torch\n",
    "import random\n",
    "import math\n",
    "import torch.optim as optim\n",
    "from torch.utils.data import DataLoader, TensorDataset"
   ]
  },
  {
   "cell_type": "markdown",
   "metadata": {
    "id": "w8v-XuEdwYtu",
    "jp-MarkdownHeadingCollapsed": true,
    "tags": []
   },
   "source": [
    "# Data prep"
   ]
  },
  {
   "cell_type": "code",
   "execution_count": 3,
   "metadata": {
    "colab": {
     "base_uri": "https://localhost:8080/"
    },
    "id": "027d9ea6",
    "outputId": "2997026b-2490-4b39-943b-93ace10daae3"
   },
   "outputs": [
    {
     "name": "stdout",
     "output_type": "stream",
     "text": [
      "(270, 270)\n"
     ]
    }
   ],
   "source": [
    "from scipy.spatial.distance import pdist, squareform\n",
    "\n",
    "lat_range = {'min': 28.486, 'max': 28.72}\n",
    "long_range = {'min': 77.1, 'max': 77.32}\n",
    "n_lat_grid = 25\n",
    "n_long_grid = 25\n",
    "seq_len = 3\n",
    "pre_len = 1\n",
    "\n",
    "#adjacency matrix\n",
    "grid_points = pd.read_csv('../Data/grid_points_25.csv')\n",
    "n_grid_points = grid_points.shape[0] \n",
    "X = grid_points[[\"lat_grid\", \"long_grid\"]].to_numpy()\n",
    "f = lambda u, v: max(abs(u-v))<=1\n",
    "adj = squareform(pdist(X, f))\n",
    "eye = np.identity(n_grid_points)\n",
    "adj = adj+eye\n",
    "print(adj.shape) \n",
    "\n",
    "grid_points = grid_points.pivot_table(index=['lat_grid', 'long_grid'])\n",
    "grid_points_indices = grid_points.index"
   ]
  },
  {
   "cell_type": "code",
   "execution_count": 4,
   "metadata": {
    "id": "3119cb60"
   },
   "outputs": [],
   "source": [
    "def data_preparation(datafile):\n",
    "    #Put the file location\n",
    "    df = pd.read_csv(datafile)\n",
    "    #type casting\n",
    "    df.pm1_0 = df.pm1_0.astype(float)\n",
    "    df.pm2_5 = df.pm2_5.astype(float)\n",
    "    df.pm10 = df.pm10.astype(float)\n",
    "    df.lat = round(round(5*df.lat.astype(float),2)/5.0,3)\n",
    "    df.long= round(round(5*df.long.astype(float),2)/5.0,3)\n",
    "\n",
    "    # Ensuring Delhi region and removing outliers from data\n",
    "    # df = df[(df.lat.astype(int) == 28) &(df.long.astype(int) == 77)]\n",
    "    df = df[(df.lat >= lat_range['min']) & (df.lat <= lat_range['max']) & (df.long >= long_range['min']) & (df.long <= long_range['max'])]\n",
    "\n",
    "    df = df[(df.pm1_0<=1500) & (df.pm2_5<=1500) & (df.pm10<=1500) & (df.pm1_0>=20) & (df.pm2_5>=30) & (df.pm10>=30)]\n",
    "    #df = df[(df.humidity<=60)&(df.humidity>=7)]\n",
    "    # only PM2_5\n",
    "    df = df[['dateTime','temperature','humidity','lat','long','pm2_5']]\n",
    "\n",
    "    df['lat_grid'] = df.apply(lambda row: int((n_lat_grid-1)*(row.lat-lat_range['min'])/(lat_range['max']-lat_range['min'])), axis=1 )\n",
    "    df['long_grid'] = df.apply(lambda row: int((n_long_grid-1)*(row.long-long_range['min'])/(long_range['max']-long_range['min'])), axis=1 )\n",
    "    df['lat_grid'] = df['lat_grid'].astype(float).astype(int)\n",
    "    df['long_grid'] = df['long_grid'].astype(float).astype(int)\n",
    "\n",
    "    # rounding @120min\n",
    "    df.dateTime = pd.to_datetime(df.dateTime)\n",
    "    df.dateTime = df.dateTime.dt.round('180min')\n",
    "    # use time as a feature as well\n",
    "    df.dateTime = df.dateTime.dt.hour*60 + df.dateTime.dt.minute\n",
    "    df = df[(df.dateTime>=360)] \n",
    "\n",
    "    # only PM2_5\n",
    "#     df = df[['dateTime','lat_grid','long_grid','pm2_5\n",
    "    df = df.pivot_table(index=['lat_grid','long_grid'], columns='dateTime', aggfunc='mean')[['pm2_5', 'temperature', 'humidity']]   \n",
    "    columns = df.columns\n",
    "#     df = df[columns[2:]]\n",
    "    df = df.fillna(0)\n",
    "    \n",
    "    return df"
   ]
  },
  {
   "cell_type": "code",
   "execution_count": 5,
   "metadata": {
    "id": "862f1040"
   },
   "outputs": [],
   "source": [
    "def train_test_split(df, grid_points_indices, train_size):\n",
    "    # random.seed(10)\n",
    "    time_len = df.shape[1]\n",
    "    train_size = int(time_len * train_size) \n",
    "    train_data = df.iloc[:, :train_size]\n",
    "    train_data = train_data.reindex(grid_points_indices,fill_value=0)\n",
    "    train_data = np.array(train_data)\n",
    "    test_data = df.iloc[:, train_size:]\n",
    "    test_data = test_data.reindex(grid_points_indices,fill_value=0)\n",
    "    test_data = np.array(test_data)\n",
    "    return train_data, test_data"
   ]
  },
  {
   "cell_type": "code",
   "execution_count": 6,
   "metadata": {
    "id": "71d9f9ca"
   },
   "outputs": [],
   "source": [
    "def scale_data(train_data, test_data):\n",
    "    max_pm = train_data.max()\n",
    "    min_pm = train_data.min()\n",
    "    print(max_pm, min_pm)\n",
    "    train_scaled = (train_data - min_pm) / (max_pm - min_pm)\n",
    "    test_scaled = (test_data - min_pm) / (max_pm - min_pm)\n",
    "    return train_scaled, test_scaled"
   ]
  },
  {
   "cell_type": "code",
   "execution_count": 7,
   "metadata": {
    "id": "216e54f0"
   },
   "outputs": [],
   "source": [
    "from ctypes import sizeof\n",
    "\n",
    "\n",
    "def sequence_data_preparation(seq_len, pre_len, train_data_pm2_5, train_data_temp, train_data_hum, test_data_pm2_5, test_data_temp, test_data_hum):\n",
    "    trainX, trainY, testX, testY = [], [], [], []\n",
    "    \n",
    "    for i in range(train_data_pm2_5.shape[1] - int(seq_len + pre_len - 1)):\n",
    "        a = train_data_pm2_5[:, i : i + seq_len + pre_len]\n",
    "        b = train_data_temp[:, i + seq_len+pre_len-1 : i + seq_len + pre_len]\n",
    "        c = train_data_hum[:, i + seq_len+pre_len-1 : i + seq_len + pre_len]\n",
    "        \n",
    "        # d is dataframe \n",
    "        d = pd.DataFrame()\n",
    "        # for i in range(seq_len):\n",
    "        #     d = pd.concat([d, pd.DataFrame(a[:,i])], axis=1)\n",
    "        #     d = pd.concat([d, pd.DataFrame(b[:,i])], axis=1)\n",
    "        #     d = pd.concat([d, pd.DataFrame(c[:,i])], axis=1)\n",
    "            \n",
    "        \n",
    "        \n",
    "        \n",
    "        # d = np.concatenate((a[:, :seq_len] , b[:, seq_len-1:seq_len] , c[:, seq_len-1:seq_len]), axis=1)\n",
    "        \n",
    "        # print(d.shape)\n",
    "        d = np.concatenate((a[:, :seq_len] , b[:, :seq_len] , c[:, :seq_len]), axis=1)\n",
    "        # print(d.shape)\n",
    "       \n",
    "        \n",
    "        \n",
    "     \n",
    "        \n",
    "        trainX.append(d)\n",
    "        trainY.append(a[:, -1])\n",
    "\n",
    "    for i in range(test_data_pm2_5.shape[1] - int(seq_len + pre_len - 1)):\n",
    "        a = test_data_pm2_5[:, i : i + seq_len + pre_len]\n",
    "        b = test_data_temp[:, i+seq_len+pre_len-1 : i + seq_len + pre_len]\n",
    "        c = test_data_hum[:, i+seq_len+pre_len-1 : i + seq_len + pre_len]\n",
    "        d = pd.DataFrame()\n",
    "        # for i in range(seq_len):\n",
    "        #     d = pd.concat([d, pd.DataFrame(a[:,i])], axis=1)\n",
    "        #     d = pd.concat([d, pd.DataFrame(b[:,i])], axis=1)\n",
    "        #     d = pd.concat([d, pd.DataFrame(c[:,i])], axis=1)\n",
    "        # d = np.concatenate((a[:, :seq_len] , b[:, seq_len-1:seq_len] , c[:, seq_len-1:seq_len]), axis=1)\n",
    "        # print(d.shape)\n",
    "        d = np.concatenate((a[:, :seq_len] , b[:, :seq_len] , c[:, :seq_len]), axis=1)\n",
    "        print(d.shape)\n",
    "        \n",
    "        \n",
    "        # print(d.shape)\n",
    "        \n",
    "        testX.append(d)\n",
    "        testY.append(a[:, -1])\n",
    "\n",
    "    trainX = np.array(trainX)\n",
    "    trainY = np.array(trainY)\n",
    "    testX = np.array(testX)\n",
    "    testY = np.array(testY)\n",
    "    \n",
    "    \n",
    "\n",
    "    \n",
    "    \n",
    "\n",
    "    # print(trainX)\n",
    "\n",
    "    return trainX, trainY, testX, testY\n",
    "\n",
    "# train_size = 0.86\n",
    "# train_data_pm2_5, test_data_pm2_5 = train_test_split(df_pm2_5, grid_points_indices, train_size)\n",
    "# train_data_temp, test_data_temp = train_test_split(df_temp, grid_points_indices, train_size)\n",
    "# train_data_hum, test_data_hum = train_test_split(df_hum, grid_points_indices, train_size)\n",
    "\n",
    "# train_scaled_pm2_5, test_scaled_pm2_5 = scale_data(train_data_pm2_5, test_data_pm2_5)\n",
    "# train_scaled_temp, test_scaled_temp = scale_data(train_data_temp, test_data_temp)\n",
    "# train_scaled_hum, test_scaled_hum = scale_data(train_data_hum, test_data_hum)\n",
    "\n",
    "# trainX, trainY, testX, testY = sequence_data_preparation(\n",
    "#     seq_len, pre_len, train_scaled_pm2_5, train_scaled_temp, train_scaled_hum, test_scaled_pm2_5, test_scaled_temp, test_scaled_hum)\n",
    "\n",
    "# print(trainX.shape)\n",
    "# print(trainY.shape)\n",
    "# print(testX.shape)\n",
    "# print(testY.shape)\n",
    "\n",
    "\n"
   ]
  },
  {
   "cell_type": "code",
   "execution_count": 8,
   "metadata": {
    "id": "eb07fa73"
   },
   "outputs": [],
   "source": [
    "def prepare_train_data(grid_points_indices, train_size = 0.8):\n",
    "    train_data_pm2_5, test_data_pm2_5 = train_test_split(df_pm2_5, grid_points_indices, train_size)\n",
    "    train_data_temp, test_data_temp = train_test_split(df_temp, grid_points_indices, train_size)\n",
    "    train_data_hum, test_data_hum = train_test_split(df_hum, grid_points_indices, train_size)\n",
    "\n",
    "    train_scaled_pm2_5, test_scaled_pm2_5 = scale_data(train_data_pm2_5, test_data_pm2_5)\n",
    "    train_scaled_temp, test_scaled_temp = scale_data(train_data_temp, test_data_temp)\n",
    "    train_scaled_hum, test_scaled_hum = scale_data(train_data_hum, test_data_hum)\n",
    "\n",
    "    trainX, trainY, testX, testY = sequence_data_preparation(\n",
    "        seq_len, pre_len, train_scaled_pm2_5, train_scaled_temp, train_scaled_hum, test_scaled_pm2_5, test_scaled_temp, test_scaled_hum)\n",
    "\n",
    "    print(trainX.shape)\n",
    "    print(trainY.shape)\n",
    "    print(testX.shape)\n",
    "    print(testY.shape)\n",
    "    return trainX, trainY, testX, testY, train_data_pm2_5"
   ]
  },
  {
   "cell_type": "markdown",
   "metadata": {
    "jp-MarkdownHeadingCollapsed": true,
    "tags": []
   },
   "source": [
    "# Training"
   ]
  },
  {
   "cell_type": "code",
   "execution_count": 9,
   "metadata": {},
   "outputs": [],
   "source": [
    "def my_loss(y_true, y_pred):\n",
    "    a = y_pred[y_true > 0] - y_true[y_true > 0]\n",
    "    return torch.sum(a**2), len(a)"
   ]
  },
  {
   "cell_type": "code",
   "execution_count": 10,
   "metadata": {},
   "outputs": [],
   "source": [
    "def eval_model(model, testX, testY):\n",
    "    output = model(torch.Tensor(testX))\n",
    "    ## actual train and test values\n",
    "    ## Rescale values\n",
    "    max_pm = train_data.max()\n",
    "    min_pm = train_data.min()\n",
    "    test_true = np.array((testY * (max_pm - min_pm)) + min_pm)\n",
    "    ## Rescale model predicted values\n",
    "    test_output = np.array((output.detach().numpy() * (max_pm - min_pm)) + min_pm)\n",
    "    # # Masked predicted values\\\n",
    "    mask_test = torch.sign(torch.Tensor(testY))\n",
    "    test_output = torch.Tensor(test_output)*(mask_test)\n",
    "    test_mse = my_loss(torch.Tensor(test_true), torch.Tensor(test_output))\n",
    "    test_rmse = torch.sqrt(test_mse)\n",
    "    print(\"Test RMSE: \", test_rmse)\n",
    "    return test_output, test_true"
   ]
  },
  {
   "cell_type": "code",
   "execution_count": 11,
   "metadata": {},
   "outputs": [],
   "source": [
    "def get_out_df(train_rmse, validation_rmse):\n",
    "    max_pm = train_data.max()\n",
    "    min_pm = train_data.min()\n",
    "    scale_factor = max_pm - min_pm\n",
    "    df = pd.DataFrame()\n",
    "    df['Mean Train loss'] = [sum(train_rmse)*scale_factor/len(train_rmse)]\n",
    "    df['Last Train loss'] = [train_rmse[-1]*scale_factor]\n",
    "    df['Mean Test loss'] = [sum(validation_rmse)*scale_factor/len(validation_rmse)]\n",
    "    df['Last Test loss'] = [validation_rmse[-1]*scale_factor]\n",
    "    # df['Train time callbacks'] = [sum(cb.logs)]\n",
    "    return df"
   ]
  },
  {
   "cell_type": "code",
   "execution_count": 12,
   "metadata": {},
   "outputs": [],
   "source": [
    "def plot_predictions(test_output, test_true, save_path=None):\n",
    "    ##all test result visualization\n",
    "    fig = plt.figure(figsize=(15, 8))\n",
    "    # test_output, test_true = eval(model, testX, testY )\n",
    "    a_pred = test_output[test_true>0]\n",
    "    a_true = test_true[test_true>0]\n",
    "    plt.plot(a_pred, \"r-\", label=\"prediction\")\n",
    "    plt.plot(a_true, \"b-\", label=\"true\")\n",
    "    plt.xlabel(\"test points\")\n",
    "    plt.ylabel(\"PM2.5\")\n",
    "    plt.legend(loc=\"best\", fontsize=10)\n",
    "    if save_path is not None:\n",
    "        plt.savefig(save_path)\n",
    "    else:\n",
    "        plt.show()"
   ]
  },
  {
   "cell_type": "markdown",
   "metadata": {
    "id": "0cXhHSBqSnPO",
    "tags": []
   },
   "source": [
    "# Initialize The Model"
   ]
  },
  {
   "cell_type": "code",
   "execution_count": 13,
   "metadata": {},
   "outputs": [],
   "source": [
    "# collect data for the whole three months, clean it and store it in a csv file\n",
    "# df = pd.DataFrame()\n",
    "# months = ['Nov', 'Dec', 'Jan']\n",
    "# month_code = ['11', '12', '01']\n",
    "# year = ['2020', '2020', '2021']\n",
    "# for i in range(3):\n",
    "#     x = '../dataset/%s/%s-%s-' % (months[i], year[i], month_code[i])\n",
    "#     for day in range(1, 32):\n",
    "#         file = '%s%s_all.csv' % (x, day)\n",
    "#         # check if file exists\n",
    "#         print(file)\n",
    "#         if(os.path.isfile(file)):\n",
    "#             df1 = data_preparation(file)\n",
    "#             df = pd.concat([df, df1], axis=1)\n",
    "# df.fillna(0, inplace=True)\n",
    "# # dump the data in pickle\n",
    "# df.to_pickle('../dataset/df.pkl')"
   ]
  },
  {
   "cell_type": "code",
   "execution_count": 14,
   "metadata": {},
   "outputs": [],
   "source": [
    "df = pd.read_pickle('../dataset/df.pkl')"
   ]
  },
  {
   "cell_type": "code",
   "execution_count": 15,
   "metadata": {},
   "outputs": [
    {
     "name": "stdout",
     "output_type": "stream",
     "text": [
      "df_pm2_5 dateTime                  360         540         720        900         1080  \\\n",
      "lat_grid long_grid                                                              \n",
      "0        21           0.000000    0.000000    0.000000   0.000000    0.000000   \n",
      "         22         502.792722  392.439383  135.177801  79.938086  100.638132   \n",
      "1        19           0.000000    0.000000    0.000000   0.000000    0.000000   \n",
      "         20           0.000000    0.000000    0.000000   0.000000    0.000000   \n",
      "         21         497.476190  419.319149  166.090909  80.000000  108.244898   \n",
      "...                        ...         ...         ...        ...         ...   \n",
      "23       8            0.000000    0.000000    0.000000   0.000000    0.000000   \n",
      "         13           0.000000    0.000000    0.000000   0.000000    0.000000   \n",
      "24       7            0.000000    0.000000    0.000000   0.000000    0.000000   \n",
      "         8            0.000000    0.000000    0.000000   0.000000    0.000000   \n",
      "         13           0.000000    0.000000    0.000000   0.000000    0.000000   \n",
      "\n",
      "dateTime                  1260        360         540         720   \\\n",
      "lat_grid long_grid                                                   \n",
      "0        21           0.000000    0.000000    0.000000    0.000000   \n",
      "         22         205.528261  128.358657  148.549903  202.062016   \n",
      "1        19           0.000000    0.000000    0.000000    0.000000   \n",
      "         20           0.000000    0.000000    0.000000    0.000000   \n",
      "         21         171.230769  133.385965  151.631579  210.848485   \n",
      "...                        ...         ...         ...         ...   \n",
      "23       8            0.000000    0.000000    0.000000    0.000000   \n",
      "         13           0.000000    0.000000    0.000000    0.000000   \n",
      "24       7            0.000000    0.000000    0.000000    0.000000   \n",
      "         8            0.000000    0.000000    0.000000    0.000000   \n",
      "         13           0.000000    0.000000    0.000000    0.000000   \n",
      "\n",
      "dateTime                  900   ...        720         900         1080  \\\n",
      "lat_grid long_grid              ...                                       \n",
      "0        21           0.000000  ...    0.000000    0.000000    0.000000   \n",
      "         22         157.617021  ...  105.038156   93.757282  130.309249   \n",
      "1        19         157.894737  ...    0.000000   99.888889    0.000000   \n",
      "         20         153.636364  ...    0.000000   91.833333    0.000000   \n",
      "         21         158.731959  ...  152.795276  101.432203  151.861111   \n",
      "...                        ...  ...         ...         ...         ...   \n",
      "23       8            0.000000  ...    0.000000    0.000000    0.000000   \n",
      "         13           0.000000  ...    0.000000    0.000000    0.000000   \n",
      "24       7            0.000000  ...    0.000000    0.000000    0.000000   \n",
      "         8            0.000000  ...    0.000000    0.000000    0.000000   \n",
      "         13           0.000000  ...    0.000000    0.000000    0.000000   \n",
      "\n",
      "dateTime                  1260        360         540         720   \\\n",
      "lat_grid long_grid                                                   \n",
      "0        21           0.000000    0.000000    0.000000    0.000000   \n",
      "         22         181.276503  204.010000  198.578138   99.790731   \n",
      "1        19         278.432203  180.190476  184.910714  137.782609   \n",
      "         20         223.668874  177.600000  188.203704  151.351064   \n",
      "         21         187.179167  179.355556  189.693277  114.776786   \n",
      "...                        ...         ...         ...         ...   \n",
      "23       8            0.000000    0.000000    0.000000    0.000000   \n",
      "         13           0.000000    0.000000    0.000000    0.000000   \n",
      "24       7            0.000000    0.000000    0.000000    0.000000   \n",
      "         8            0.000000    0.000000    0.000000    0.000000   \n",
      "         13           0.000000    0.000000    0.000000    0.000000   \n",
      "\n",
      "dateTime                  900         1080        1260  \n",
      "lat_grid long_grid                                      \n",
      "0        21           0.000000    0.000000    0.000000  \n",
      "         22          57.833974  119.529464  194.559428  \n",
      "1        19         108.424242  260.658537  346.479592  \n",
      "         20          94.962617  243.210526  261.909910  \n",
      "         21          72.503401  142.874016  225.062857  \n",
      "...                        ...         ...         ...  \n",
      "23       8            0.000000    0.000000    0.000000  \n",
      "         13           0.000000    0.000000    0.000000  \n",
      "24       7            0.000000    0.000000    0.000000  \n",
      "         8            0.000000    0.000000    0.000000  \n",
      "         13           0.000000    0.000000    0.000000  \n",
      "\n",
      "[268 rows x 516 columns]\n",
      "temp dateTime                 360        540        720        900        1080  \\\n",
      "lat_grid long_grid                                                          \n",
      "0        21          0.000000   0.000000   0.000000   0.000000   0.000000   \n",
      "         22         28.164810  33.199229  39.165653  41.068987  38.646148   \n",
      "1        19          0.000000   0.000000   0.000000   0.000000   0.000000   \n",
      "         20          0.000000   0.000000   0.000000   0.000000   0.000000   \n",
      "         21         28.107619  30.745106  36.227879  39.995152  37.761633   \n",
      "...                       ...        ...        ...        ...        ...   \n",
      "23       8           0.000000   0.000000   0.000000   0.000000   0.000000   \n",
      "         13          0.000000   0.000000   0.000000   0.000000   0.000000   \n",
      "24       7           0.000000   0.000000   0.000000   0.000000   0.000000   \n",
      "         8           0.000000   0.000000   0.000000   0.000000   0.000000   \n",
      "         13          0.000000   0.000000   0.000000   0.000000   0.000000   \n",
      "\n",
      "dateTime                 1260       360        540        720        900   \\\n",
      "lat_grid long_grid                                                          \n",
      "0        21          0.000000   0.000000   0.000000   0.000000   0.000000   \n",
      "         22         33.494391  28.348004  34.439152  38.373236  41.545775   \n",
      "1        19          0.000000   0.000000   0.000000   0.000000  42.906842   \n",
      "         20          0.000000   0.000000   0.000000   0.000000  42.780303   \n",
      "         21         31.639231  28.645789  32.886974  37.881061  41.837113   \n",
      "...                       ...        ...        ...        ...        ...   \n",
      "23       8           0.000000   0.000000   0.000000   0.000000   0.000000   \n",
      "         13          0.000000   0.000000   0.000000   0.000000   0.000000   \n",
      "24       7           0.000000   0.000000   0.000000   0.000000   0.000000   \n",
      "         8           0.000000   0.000000   0.000000   0.000000   0.000000   \n",
      "         13          0.000000   0.000000   0.000000   0.000000   0.000000   \n",
      "\n",
      "dateTime            ...       720        900        1080       1260  \\\n",
      "lat_grid long_grid  ...                                               \n",
      "0        21         ...   0.000000   0.000000   0.000000   0.000000   \n",
      "         22         ...  36.295294  37.895670  33.957818  31.937208   \n",
      "1        19         ...   0.000000  34.034444   0.000000  27.949746   \n",
      "         20         ...   0.000000  33.714167   0.000000  27.962583   \n",
      "         21         ...  32.514961  36.283051  32.827014  30.520417   \n",
      "...                 ...        ...        ...        ...        ...   \n",
      "23       8          ...   0.000000   0.000000   0.000000   0.000000   \n",
      "         13         ...   0.000000   0.000000   0.000000   0.000000   \n",
      "24       7          ...   0.000000   0.000000   0.000000   0.000000   \n",
      "         8          ...   0.000000   0.000000   0.000000   0.000000   \n",
      "         13         ...   0.000000   0.000000   0.000000   0.000000   \n",
      "\n",
      "dateTime                 360        540        720        900        1080  \\\n",
      "lat_grid long_grid                                                          \n",
      "0        21          0.000000   0.000000   0.000000   0.000000   0.000000   \n",
      "         22         21.089480  24.495944  33.883309  38.284676  33.497511   \n",
      "1        19         19.641905  24.923214  32.116087  35.843485  33.544878   \n",
      "         20         19.540800  25.246204  31.621383  35.760748  33.537105   \n",
      "         21         21.078333  24.793992  33.908036  36.528707  33.440157   \n",
      "...                       ...        ...        ...        ...        ...   \n",
      "23       8           0.000000   0.000000   0.000000   0.000000   0.000000   \n",
      "         13          0.000000   0.000000   0.000000   0.000000   0.000000   \n",
      "24       7           0.000000   0.000000   0.000000   0.000000   0.000000   \n",
      "         8           0.000000   0.000000   0.000000   0.000000   0.000000   \n",
      "         13          0.000000   0.000000   0.000000   0.000000   0.000000   \n",
      "\n",
      "dateTime                 1260  \n",
      "lat_grid long_grid             \n",
      "0        21          0.000000  \n",
      "         22         31.497349  \n",
      "1        19         28.190816  \n",
      "         20         28.307297  \n",
      "         21         30.562114  \n",
      "...                       ...  \n",
      "23       8           0.000000  \n",
      "         13          0.000000  \n",
      "24       7           0.000000  \n",
      "         8           0.000000  \n",
      "         13          0.000000  \n",
      "\n",
      "[268 rows x 516 columns]\n"
     ]
    }
   ],
   "source": [
    "df_pm2_5 = df['pm2_5']\n",
    "df_temp = df['temperature']\n",
    "df_hum = df['humidity']\n",
    "\n",
    "print(\"df_pm2_5\", df_pm2_5)\n",
    "# for i in df_pm2_5:\n",
    "#     print(i)\n",
    "print(\"temp\",df_temp)"
   ]
  },
  {
   "cell_type": "code",
   "execution_count": 16,
   "metadata": {
    "colab": {
     "base_uri": "https://localhost:8080/"
    },
    "id": "K-w7y9wAx_45",
    "outputId": "b6fb3286-0f45-4e57-facd-bca95c77d5bd"
   },
   "outputs": [
    {
     "name": "stdout",
     "output_type": "stream",
     "text": [
      "887.4905660377359 0.0\n",
      "185.42000000000004 0.0\n",
      "100.0 0.0\n",
      "(270, 5)\n",
      "(270, 5)\n",
      "(270, 5)\n",
      "(270, 5)\n",
      "(270, 5)\n",
      "(270, 5)\n",
      "(270, 5)\n",
      "(270, 5)\n",
      "(270, 5)\n",
      "(270, 5)\n",
      "(270, 5)\n",
      "(270, 5)\n",
      "(270, 5)\n",
      "(270, 5)\n",
      "(270, 5)\n",
      "(270, 5)\n",
      "(270, 5)\n",
      "(270, 5)\n",
      "(270, 5)\n",
      "(270, 5)\n",
      "(270, 5)\n",
      "(270, 5)\n",
      "(270, 5)\n",
      "(270, 5)\n",
      "(270, 5)\n",
      "(270, 5)\n",
      "(270, 5)\n",
      "(270, 5)\n",
      "(270, 5)\n",
      "(270, 5)\n",
      "(270, 5)\n",
      "(270, 5)\n",
      "(270, 5)\n",
      "(270, 5)\n",
      "(270, 5)\n",
      "(270, 5)\n",
      "(270, 5)\n",
      "(270, 5)\n",
      "(270, 5)\n",
      "(270, 5)\n",
      "(270, 5)\n",
      "(270, 5)\n",
      "(270, 5)\n",
      "(270, 5)\n",
      "(270, 5)\n",
      "(270, 5)\n",
      "(270, 5)\n",
      "(270, 5)\n",
      "(270, 5)\n",
      "(270, 5)\n",
      "(270, 5)\n",
      "(270, 5)\n",
      "(270, 5)\n",
      "(270, 5)\n",
      "(270, 5)\n",
      "(270, 5)\n",
      "(270, 5)\n",
      "(270, 5)\n",
      "(270, 5)\n",
      "(270, 5)\n",
      "(270, 5)\n",
      "(270, 5)\n",
      "(270, 5)\n",
      "(270, 5)\n",
      "(270, 5)\n",
      "(270, 5)\n",
      "(270, 5)\n",
      "(270, 5)\n",
      "(270, 5)\n",
      "(270, 5)\n",
      "(440, 270, 5)\n",
      "(440, 270)\n",
      "(70, 270, 5)\n",
      "(70, 270)\n"
     ]
    }
   ],
   "source": [
    "trainX, trainY, testX, testY, train_data = prepare_train_data(grid_points_indices, train_size = 0.86)"
   ]
  },
  {
   "cell_type": "code",
   "execution_count": 17,
   "metadata": {},
   "outputs": [
    {
     "name": "stderr",
     "output_type": "stream",
     "text": [
      "2022-09-13 19:19:01.177435: I tensorflow/core/platform/cpu_feature_guard.cc:193] This TensorFlow binary is optimized with oneAPI Deep Neural Network Library (oneDNN) to use the following CPU instructions in performance-critical operations:  AVX2 FMA\n",
      "To enable them in other operations, rebuild TensorFlow with the appropriate compiler flags.\n"
     ]
    }
   ],
   "source": [
    "from gcn_lstm import GCN_LSTM\n",
    "import numpy as np\n",
    "import torch\n",
    "adj = adj.astype(np.float32)\n",
    "model=GCN_LSTM(torch.from_numpy(adj), grid_size = 270, seq_len = 5, gc_sizes = [32,16,8], lstm_sizes = [8,4])\n",
    "optimizer = optim.Adam(model.parameters(), lr=0.01, betas=(0.9, 0.999), eps=1e-05)"
   ]
  },
  {
   "cell_type": "code",
   "execution_count": 18,
   "metadata": {},
   "outputs": [
    {
     "name": "stdout",
     "output_type": "stream",
     "text": [
      "<class 'torch.nn.parameter.Parameter'> torch.Size([270, 4])\n",
      "<class 'torch.nn.parameter.Parameter'> torch.Size([270])\n"
     ]
    }
   ],
   "source": [
    "for param in model.parameters():\n",
    "    print(type(param), param.size())"
   ]
  },
  {
   "cell_type": "code",
   "execution_count": 19,
   "metadata": {},
   "outputs": [],
   "source": [
    "\n",
    "def train_model(model, optimizer, trainX, trainY, testX, testY, n_epochs, batch_size):\n",
    "    # convert all data to tensor\n",
    "    trainX = torch.from_numpy(trainX.astype(np.float32))\n",
    "    trainY = torch.from_numpy(trainY.astype(np.float32))\n",
    "    testX = torch.from_numpy(testX.astype(np.float32))\n",
    "    testY = torch.from_numpy(testY.astype(np.float32))\n",
    "    \n",
    "    trainDs = TensorDataset(trainX, trainY)\n",
    "    testDs = TensorDataset(testX, testY)\n",
    "    trainLoader = DataLoader(trainDs, batch_size=batch_size, shuffle=True)\n",
    "    testLoader = DataLoader(testDs, batch_size=batch_size, shuffle=False)\n",
    "\n",
    "    train_mse, train_rmse, validation_mse, validation_rmse=[], [], [], []\n",
    "    for epoch in range(n_epochs):\n",
    "        train_loss = 0.0\n",
    "        valid_loss = 0.0\n",
    "        train_len = 0\n",
    "        valid_len = 0\n",
    "        for _, (inputs, targets) in enumerate(trainLoader):\n",
    "            model.train()\n",
    "            outputs = model(inputs)\n",
    "            loss, tlen = my_loss(outputs, targets)\n",
    "            optimizer.zero_grad()\n",
    "            loss.backward()\n",
    "            optimizer.step()\n",
    "            train_loss += loss.item()\n",
    "            train_len += tlen\n",
    "        \n",
    "        with torch.no_grad():\n",
    "            for _, (inputs, targets) in enumerate(testLoader):\n",
    "                model.eval()\n",
    "                outputs = model(inputs)\n",
    "                loss, tlen = my_loss(outputs, targets)\n",
    "                valid_loss += loss.item()\n",
    "                valid_len += tlen\n",
    "\n",
    "        train_loss /= train_len\n",
    "        valid_loss /= valid_len\n",
    "        train_mse.append(train_loss)\n",
    "        validation_mse.append(valid_loss)\n",
    "        train_rmse.append(math.sqrt(train_loss))\n",
    "        validation_rmse.append(math.sqrt(valid_loss))\n",
    "\n",
    "        if((epoch+1)%10==0):\n",
    "            print(f'Epoch {epoch+1} \\t Train Loss: ', {train_loss}, 'Valid Loss: ', {valid_loss})\n",
    "\n",
    "    return train_mse, train_rmse, validation_mse, validation_rmse"
   ]
  },
  {
   "cell_type": "code",
   "execution_count": 20,
   "metadata": {},
   "outputs": [
    {
     "name": "stdout",
     "output_type": "stream",
     "text": [
      "Epoch 10 \t Train Loss:  {0.0237174080999612} Valid Loss:  {0.01618355503788701}\n",
      "Epoch 20 \t Train Loss:  {0.013596710243610421} Valid Loss:  {0.008566072554815384}\n",
      "Epoch 30 \t Train Loss:  {0.011091006885875354} Valid Loss:  {0.007049180994588862}\n",
      "Epoch 40 \t Train Loss:  {0.010170039745292278} Valid Loss:  {0.00650022097996303}\n",
      "Epoch 50 \t Train Loss:  {0.0097250072081081} Valid Loss:  {0.006267788599407862}\n",
      "Epoch 60 \t Train Loss:  {0.00953832016248093} Valid Loss:  {0.006152424232038872}\n",
      "Epoch 70 \t Train Loss:  {0.009303391694219827} Valid Loss:  {0.006081861162942554}\n",
      "Epoch 80 \t Train Loss:  {0.009255753430453213} Valid Loss:  {0.006019889892093719}\n",
      "Epoch 90 \t Train Loss:  {0.00911058196315059} Valid Loss:  {0.006007987885248094}\n",
      "Epoch 100 \t Train Loss:  {0.009049128009012652} Valid Loss:  {0.005984664745431728}\n"
     ]
    },
    {
     "data": {
      "image/png": "[encoded data removed]",
      "text/plain": [
       "<Figure size 432x288 with 1 Axes>"
      ]
     },
     "metadata": {
      "needs_background": "light"
     },
     "output_type": "display_data"
    }
   ],
   "source": [
    "train_mse, train_rmse, validation_mse, validation_rmse = train_model(model, optimizer, trainX, trainY, testX, testY, 100, 20)\n",
    "from matplotlib import pyplot as plt\n",
    "plt.plot(np.arange(1, 101), train_mse, label='avg training loss')\n",
    "plt.plot(np.arange(1, 101), validation_mse, label='avg validation loss')\n",
    "plt.legend()\n",
    "plt.show()"
   ]
  },
  {
   "cell_type": "code",
   "execution_count": 21,
   "metadata": {},
   "outputs": [
    {
     "data": {
      "text/plain": [
       "array([0.        , 0.09007204, 0.        , 0.        , 0.0901418 ,\n",
       "       0.09168873, 0.        , 0.        , 0.        , 0.        ,\n",
       "       0.        , 0.        , 0.10074794, 0.07605715, 0.        ,\n",
       "       0.        , 0.        , 0.        , 0.        , 0.        ,\n",
       "       0.08018865, 0.09328407, 0.        , 0.        , 0.        ,\n",
       "       0.        , 0.        , 0.        , 0.08869089, 0.        ,\n",
       "       0.        , 0.        , 0.        , 0.        , 0.        ,\n",
       "       0.        , 0.        , 0.        , 0.08768104, 0.08910171,\n",
       "       0.        , 0.        , 0.        , 0.        , 0.        ,\n",
       "       0.        , 0.        , 0.        , 0.        , 0.        ,\n",
       "       0.09933627, 0.08509181, 0.08647559, 0.        , 0.        ,\n",
       "       0.        , 0.        , 0.        , 0.        , 0.        ,\n",
       "       0.        , 0.        , 0.        , 0.        , 0.09475133,\n",
       "       0.09417279, 0.08492809, 0.        , 0.        , 0.        ,\n",
       "       0.        , 0.        , 0.        , 0.        , 0.        ,\n",
       "       0.        , 0.        , 0.        , 0.09396974, 0.09671146,\n",
       "       0.12079633, 0.07937487, 0.08102519, 0.        , 0.        ,\n",
       "       0.        , 0.        , 0.        , 0.        , 0.        ,\n",
       "       0.        , 0.        , 0.        , 0.08881016, 0.        ,\n",
       "       0.09779447, 0.0812403 , 0.        , 0.        , 0.        ,\n",
       "       0.        , 0.        , 0.        , 0.        , 0.        ,\n",
       "       0.08769324, 0.        , 0.07599887, 0.        , 0.        ,\n",
       "       0.        , 0.        , 0.        , 0.        , 0.        ,\n",
       "       0.        , 0.        , 0.        , 0.        , 0.08508357,\n",
       "       0.        , 0.07303901, 0.0698599 , 0.        , 0.        ,\n",
       "       0.        , 0.        , 0.        , 0.        , 0.        ,\n",
       "       0.        , 0.        , 0.        , 0.        , 0.        ,\n",
       "       0.        , 0.        , 0.09443671, 0.        , 0.06835753,\n",
       "       0.06672103, 0.        , 0.        , 0.        , 0.        ,\n",
       "       0.        , 0.        , 0.        , 0.        , 0.        ,\n",
       "       0.        , 0.        , 0.09031665, 0.        , 0.06478942,\n",
       "       0.07449218, 0.        , 0.        , 0.        , 0.        ,\n",
       "       0.        , 0.        , 0.        , 0.        , 0.        ,\n",
       "       0.        , 0.        , 0.        , 0.        , 0.        ,\n",
       "       0.12353053, 0.0885999 , 0.09003937, 0.087474  , 0.09631626,\n",
       "       0.08394455, 0.        , 0.        , 0.        , 0.        ,\n",
       "       0.        , 0.        , 0.        , 0.        , 0.        ,\n",
       "       0.        , 0.10214506, 0.        , 0.        , 0.        ,\n",
       "       0.09580881, 0.10512995, 0.09829608, 0.        , 0.09482224,\n",
       "       0.        , 0.        , 0.        , 0.        , 0.        ,\n",
       "       0.        , 0.        , 0.        , 0.1111528 , 0.        ,\n",
       "       0.        , 0.        , 0.        , 0.09096127, 0.09225227,\n",
       "       0.08539718, 0.08112762, 0.        , 0.        , 0.12585527,\n",
       "       0.1157524 , 0.        , 0.        , 0.        , 0.09096723,\n",
       "       0.09255632, 0.08063184, 0.08265681, 0.08416729, 0.        ,\n",
       "       0.        , 0.        , 0.1142878 , 0.1109929 , 0.        ,\n",
       "       0.        , 0.        , 0.09024122, 0.09149199, 0.09941353,\n",
       "       0.1045204 , 0.        , 0.        , 0.        , 0.        ,\n",
       "       0.        , 0.        , 0.        , 0.        , 0.        ,\n",
       "       0.        , 0.08750351, 0.08612385, 0.        , 0.        ,\n",
       "       0.        , 0.        , 0.        , 0.        , 0.        ,\n",
       "       0.        , 0.        , 0.        , 0.        , 0.        ,\n",
       "       0.        , 0.        , 0.        , 0.        , 0.        ,\n",
       "       0.        , 0.        , 0.        , 0.        , 0.        ])"
      ]
     },
     "execution_count": 21,
     "metadata": {},
     "output_type": "execute_result"
    }
   ],
   "source": [
    "trainY[0]"
   ]
  },
  {
   "cell_type": "code",
   "execution_count": 22,
   "metadata": {},
   "outputs": [],
   "source": [
    "predY0 = model(torch.tensor(trainX[0]).float().unsqueeze(0))"
   ]
  },
  {
   "cell_type": "code",
   "execution_count": 23,
   "metadata": {},
   "outputs": [
    {
     "data": {
      "text/plain": [
       "tensor([[0.0176, 0.2077, 0.0902, 0.0909, 0.2014, 0.2032, 0.0122, 0.0134, 0.0150,\n",
       "         0.0154, 0.0840, 0.0118, 0.2040, 0.0785, 0.0131, 0.0119, 0.0141, 0.0159,\n",
       "         0.0755, 0.0791, 0.1910, 0.2011, 0.0146, 0.0134, 0.0143, 0.0172, 0.0911,\n",
       "         0.0159, 0.1993, 0.0152, 0.0119, 0.0333, 0.0410, 0.0103, 0.0130, 0.0119,\n",
       "         0.0858, 0.0890, 0.1997, 0.1993, 0.0108, 0.0125, 0.0475, 0.0451, 0.0483,\n",
       "         0.0498, 0.0092, 0.0110, 0.0122, 0.0128, 0.1904, 0.2000, 0.2015, 0.0580,\n",
       "         0.0644, 0.0086, 0.0520, 0.0465, 0.0129, 0.0125, 0.0516, 0.0143, 0.0141,\n",
       "         0.0109, 0.1987, 0.2001, 0.1990, 0.0560, 0.0624, 0.0663, 0.0427, 0.0496,\n",
       "         0.1676, 0.1724, 0.1740, 0.1799, 0.1759, 0.1889, 0.1963, 0.1968, 0.1998,\n",
       "         0.1719, 0.1393, 0.0615, 0.0340, 0.0411, 0.1768, 0.0149, 0.0124, 0.0153,\n",
       "         0.1305, 0.1465, 0.1514, 0.1879, 0.0282, 0.1721, 0.1611, 0.1775, 0.1663,\n",
       "         0.0138, 0.0108, 0.0141, 0.1282, 0.1244, 0.1195, 0.1920, 0.0564, 0.1660,\n",
       "         0.0293, 0.0127, 0.1437, 0.1637, 0.0146, 0.0142, 0.0141, 0.0127, 0.1190,\n",
       "         0.0147, 0.1021, 0.1925, 0.0132, 0.1522, 0.1379, 0.0148, 0.0150, 0.0389,\n",
       "         0.0984, 0.0945, 0.0917, 0.0142, 0.0128, 0.0126, 0.0117, 0.0161, 0.1201,\n",
       "         0.0151, 0.1395, 0.1982, 0.0147, 0.1494, 0.1514, 0.0142, 0.0951, 0.0365,\n",
       "         0.0119, 0.0136, 0.0141, 0.0133, 0.0128, 0.1179, 0.0138, 0.0132, 0.1968,\n",
       "         0.0141, 0.1090, 0.1625, 0.1039, 0.0247, 0.1054, 0.0129, 0.0150, 0.0122,\n",
       "         0.0119, 0.0119, 0.0115, 0.0154, 0.0132, 0.1296, 0.1072, 0.0132, 0.2058,\n",
       "         0.1587, 0.1544, 0.1886, 0.1932, 0.1361, 0.0277, 0.0248, 0.1027, 0.0119,\n",
       "         0.0120, 0.0139, 0.0132, 0.1000, 0.1312, 0.0097, 0.1748, 0.0169, 0.0111,\n",
       "         0.0126, 0.1837, 0.1949, 0.1893, 0.0137, 0.1272, 0.0968, 0.0971, 0.0149,\n",
       "         0.0121, 0.0127, 0.0139, 0.1077, 0.0125, 0.1772, 0.0163, 0.0131, 0.0118,\n",
       "         0.0118, 0.1934, 0.1447, 0.1558, 0.1201, 0.1023, 0.0992, 0.1752, 0.1706,\n",
       "         0.0162, 0.0128, 0.0123, 0.1637, 0.1506, 0.1439, 0.1369, 0.1404, 0.1120,\n",
       "         0.0197, 0.0152, 0.1750, 0.1604, 0.0198, 0.0088, 0.0142, 0.1546, 0.1644,\n",
       "         0.1088, 0.1241, 0.0145, 0.0120, 0.0118, 0.0117, 0.0148, 0.0154, 0.0153,\n",
       "         0.0152, 0.0102, 0.0113, 0.1656, 0.1657, 0.0134, 0.0146, 0.0117, 0.0115,\n",
       "         0.0139, 0.0135, 0.0136, 0.0121, 0.0097, 0.0138, 0.0118, 0.0106, 0.0099,\n",
       "         0.0163, 0.0144, 0.0120, 0.0156, 0.0122, 0.0124, 0.0156, 0.0109, 0.0136]],\n",
       "       grad_fn=<SigmoidBackward0>)"
      ]
     },
     "execution_count": 23,
     "metadata": {},
     "output_type": "execute_result"
    }
   ],
   "source": [
    "predY0"
   ]
  },
  {
   "cell_type": "code",
   "execution_count": 24,
   "metadata": {},
   "outputs": [
    {
     "name": "stdout",
     "output_type": "stream",
     "text": [
      "Epoch 10 \t Train Loss:  {0.009003184042394361} Valid Loss:  {0.005978185058270813}\n",
      "Epoch 20 \t Train Loss:  {0.008907998178141687} Valid Loss:  {0.00598199450780475}\n",
      "Epoch 30 \t Train Loss:  {0.008878995432998195} Valid Loss:  {0.005982236357593032}\n",
      "Epoch 40 \t Train Loss:  {0.008877181621512981} Valid Loss:  {0.0059978014325338695}\n",
      "Epoch 50 \t Train Loss:  {0.008978904875039252} Valid Loss:  {0.005996070387502196}\n",
      "Epoch 60 \t Train Loss:  {0.008867410072172531} Valid Loss:  {0.005979010718209403}\n",
      "Epoch 70 \t Train Loss:  {0.008848539057002726} Valid Loss:  {0.005990612645628591}\n",
      "Epoch 80 \t Train Loss:  {0.008820204510030521} Valid Loss:  {0.005973641632725952}\n",
      "Epoch 90 \t Train Loss:  {0.008852295120958528} Valid Loss:  {0.005981508991705678}\n",
      "Epoch 100 \t Train Loss:  {0.008832215492171471} Valid Loss:  {0.005975050547766307}\n"
     ]
    },
    {
     "data": {
      "image/png": "[encoded data removed]",
      "text/plain": [
       "<Figure size 432x288 with 1 Axes>"
      ]
     },
     "metadata": {
      "needs_background": "light"
     },
     "output_type": "display_data"
    },
    {
     "data": {
      "text/html": [
       "<div>\n",
       "<style scoped>\n",
       "    .dataframe tbody tr th:only-of-type {\n",
       "        vertical-align: middle;\n",
       "    }\n",
       "\n",
       "    .dataframe tbody tr th {\n",
       "        vertical-align: top;\n",
       "    }\n",
       "\n",
       "    .dataframe thead th {\n",
       "        text-align: right;\n",
       "    }\n",
       "</style>\n",
       "<table border=\"1\" class=\"dataframe\">\n",
       "  <thead>\n",
       "    <tr style=\"text-align: right;\">\n",
       "      <th></th>\n",
       "      <th>Mean Train loss</th>\n",
       "      <th>Last Train loss</th>\n",
       "      <th>Mean Test loss</th>\n",
       "      <th>Last Test loss</th>\n",
       "    </tr>\n",
       "  </thead>\n",
       "  <tbody>\n",
       "    <tr>\n",
       "      <th>0</th>\n",
       "      <td>83.708542</td>\n",
       "      <td>83.406246</td>\n",
       "      <td>68.648607</td>\n",
       "      <td>68.601646</td>\n",
       "    </tr>\n",
       "  </tbody>\n",
       "</table>\n",
       "</div>"
      ],
      "text/plain": [
       "   Mean Train loss  Last Train loss  Mean Test loss  Last Test loss\n",
       "0        83.708542        83.406246       68.648607       68.601646"
      ]
     },
     "execution_count": 24,
     "metadata": {},
     "output_type": "execute_result"
    }
   ],
   "source": [
    "train_mse, train_rmse, validation_mse, validation_rmse = train_model(model, optimizer, trainX, trainY, testX, testY, 100, 20)\n",
    "from matplotlib import pyplot as plt\n",
    "plt.plot(np.arange(1, 101), train_mse, label='avg validation loss')\n",
    "plt.plot(np.arange(1, 101), validation_mse, label='avg training loss')\n",
    "plt.legend()\n",
    "plt.show()\n",
    "get_out_df(train_rmse, validation_rmse)"
   ]
  },
  {
   "cell_type": "code",
   "execution_count": 25,
   "metadata": {},
   "outputs": [
    {
     "name": "stdout",
     "output_type": "stream",
     "text": [
      "Epoch 10 \t Train Loss:  {0.00876331920174236} Valid Loss:  {0.006001942927244479}\n",
      "Epoch 20 \t Train Loss:  {0.008866113352053093} Valid Loss:  {0.005982097879288688}\n",
      "Epoch 30 \t Train Loss:  {0.008753017014525957} Valid Loss:  {0.006004910986259501}\n",
      "Epoch 40 \t Train Loss:  {0.008790512879689535} Valid Loss:  {0.005985285100482759}\n",
      "Epoch 50 \t Train Loss:  {0.008821019439986259} Valid Loss:  {0.005971271310533796}\n",
      "Epoch 60 \t Train Loss:  {0.008841789808337537} Valid Loss:  {0.005969702907340236}\n",
      "Epoch 70 \t Train Loss:  {0.008821516170445517} Valid Loss:  {0.005979408246499521}\n",
      "Epoch 80 \t Train Loss:  {0.008820432147594414} Valid Loss:  {0.00599261030318245}\n",
      "Epoch 90 \t Train Loss:  {0.008751607966744138} Valid Loss:  {0.005982654107310785}\n",
      "Epoch 100 \t Train Loss:  {0.008817585859234485} Valid Loss:  {0.005954757657631364}\n"
     ]
    },
    {
     "data": {
      "image/png": "[encoded data removed]",
      "text/plain": [
       "<Figure size 432x288 with 1 Axes>"
      ]
     },
     "metadata": {
      "needs_background": "light"
     },
     "output_type": "display_data"
    },
    {
     "data": {
      "text/html": [
       "<div>\n",
       "<style scoped>\n",
       "    .dataframe tbody tr th:only-of-type {\n",
       "        vertical-align: middle;\n",
       "    }\n",
       "\n",
       "    .dataframe tbody tr th {\n",
       "        vertical-align: top;\n",
       "    }\n",
       "\n",
       "    .dataframe thead th {\n",
       "        text-align: right;\n",
       "    }\n",
       "</style>\n",
       "<table border=\"1\" class=\"dataframe\">\n",
       "  <thead>\n",
       "    <tr style=\"text-align: right;\">\n",
       "      <th></th>\n",
       "      <th>Mean Train loss</th>\n",
       "      <th>Last Train loss</th>\n",
       "      <th>Mean Test loss</th>\n",
       "      <th>Last Test loss</th>\n",
       "    </tr>\n",
       "  </thead>\n",
       "  <tbody>\n",
       "    <tr>\n",
       "      <th>0</th>\n",
       "      <td>83.288554</td>\n",
       "      <td>83.33714</td>\n",
       "      <td>68.632314</td>\n",
       "      <td>68.485052</td>\n",
       "    </tr>\n",
       "  </tbody>\n",
       "</table>\n",
       "</div>"
      ],
      "text/plain": [
       "   Mean Train loss  Last Train loss  Mean Test loss  Last Test loss\n",
       "0        83.288554         83.33714       68.632314       68.485052"
      ]
     },
     "execution_count": 25,
     "metadata": {},
     "output_type": "execute_result"
    }
   ],
   "source": [
    "train_mse, train_rmse, validation_mse, validation_rmse = train_model(model,optimizer, trainX, trainY, testX, testY, 100, 23)\n",
    "from matplotlib import pyplot as plt\n",
    "plt.plot(np.arange(1, 101), train_mse, label='avg training loss')\n",
    "plt.plot(np.arange(1, 101), validation_mse, label='avg validation loss')\n",
    "plt.legend()\n",
    "plt.show()\n",
    "get_out_df(train_rmse, validation_rmse)"
   ]
  }
 ],
 "metadata": {
  "colab": {
   "collapsed_sections": [
    "w8v-XuEdwYtu",
    "E_mXhzz87keD"
   ],
   "name": "GCN-LSTM in PyTorch-Clean.ipynb",
   "provenance": []
  },
  "kernelspec": {
   "display_name": "Python 3.8.13",
   "language": "python",
   "name": "python3"
  },
  "language_info": {
   "codemirror_mode": {
    "name": "ipython",
    "version": 3
   },
   "file_extension": ".py",
   "mimetype": "text/x-python",
   "name": "python",
   "nbconvert_exporter": "python",
   "pygments_lexer": "ipython3",
   "version": "3.8.13"
  },
  "vscode": {
   "interpreter": {
    "hash": "4100cdcb706d22586bb6f8f0bc8c616c9f1b59973b38f5e58a12680baaed07d0"
   }
  }
 },
 "nbformat": 4,
 "nbformat_minor": 4
}
