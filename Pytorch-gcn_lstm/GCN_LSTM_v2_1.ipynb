{
 "cells": [
  {
   "cell_type": "code",
   "execution_count": 29,
   "metadata": {
    "id": "8HoBgkeJsFQf"
   },
   "outputs": [],
   "source": [
    "# !pip install --quiet optuna\n",
    "# !pip install --quiet stellargraph"
   ]
  },
  {
   "cell_type": "code",
   "execution_count": 1,
   "metadata": {
    "colab": {
     "base_uri": "https://localhost:8080/"
    },
    "id": "nygzV4y4D0qo",
    "outputId": "50c29833-3f32-405d-b4b1-09c4437dfd97"
   },
   "outputs": [],
   "source": [
    "import os\n",
    "import optuna\n",
    "from optuna.trial import TrialState\n",
    "import pandas as pd\n",
    "import numpy as np\n",
    "import torch\n",
    "import random\n",
    "import math\n",
    "import torch.optim as optim\n",
    "from torch.utils.data import DataLoader, TensorDataset"
   ]
  },
  {
   "cell_type": "markdown",
   "metadata": {
    "id": "w8v-XuEdwYtu",
    "jp-MarkdownHeadingCollapsed": true,
    "tags": []
   },
   "source": [
    "# Data prep"
   ]
  },
  {
   "cell_type": "code",
   "execution_count": 2,
   "metadata": {
    "colab": {
     "base_uri": "https://localhost:8080/"
    },
    "id": "027d9ea6",
    "outputId": "2997026b-2490-4b39-943b-93ace10daae3"
   },
   "outputs": [
    {
     "name": "stdout",
     "output_type": "stream",
     "text": [
      "(270, 270)\n"
     ]
    }
   ],
   "source": [
    "from scipy.spatial.distance import pdist, squareform\n",
    "\n",
    "lat_range = {'min': 28.486, 'max': 28.72}\n",
    "long_range = {'min': 77.1, 'max': 77.32}\n",
    "n_lat_grid = 25\n",
    "n_long_grid = 25\n",
    "seq_len = 3\n",
    "pre_len = 1\n",
    "\n",
    "#adjacency matrix\n",
    "grid_points = pd.read_csv('../Data/grid_points_25.csv')\n",
    "n_grid_points = grid_points.shape[0] \n",
    "X = grid_points[[\"lat_grid\", \"long_grid\"]].to_numpy()\n",
    "f = lambda u, v: max(abs(u-v))<=1\n",
    "adj = squareform(pdist(X, f))\n",
    "eye = np.identity(n_grid_points)\n",
    "adj = adj+eye\n",
    "print(adj.shape) \n",
    "\n",
    "grid_points = grid_points.pivot_table(index=['lat_grid', 'long_grid'])\n",
    "grid_points_indices = grid_points.index"
   ]
  },
  {
   "cell_type": "code",
   "execution_count": 42,
   "metadata": {
    "id": "3119cb60"
   },
   "outputs": [],
   "source": [
    "def data_preparation(datafile):\n",
    "    #Put the file location\n",
    "    df = pd.read_csv(datafile)\n",
    "    #type casting\n",
    "    df.pm1_0 = df.pm1_0.astype(float)\n",
    "    df.pm2_5 = df.pm2_5.astype(float)\n",
    "    df.pm10 = df.pm10.astype(float)\n",
    "    df.lat = round(round(5*df.lat.astype(float),2)/5.0,3)\n",
    "    df.long= round(round(5*df.long.astype(float),2)/5.0,3)\n",
    "\n",
    "    # Ensuring Delhi region and removing outliers from data\n",
    "    # df = df[(df.lat.astype(int) == 28) &(df.long.astype(int) == 77)]\n",
    "    df = df[(df.lat >= lat_range['min']) & (df.lat <= lat_range['max']) & (df.long >= long_range['min']) & (df.long <= long_range['max'])]\n",
    "\n",
    "    df = df[(df.pm1_0<=1500) & (df.pm2_5<=1500) & (df.pm10<=1500) & (df.pm1_0>=20) & (df.pm2_5>=30) & (df.pm10>=30)]\n",
    "    #df = df[(df.humidity<=60)&(df.humidity>=7)]\n",
    "    # only PM2_5\n",
    "    df = df[['dateTime','temperature','humidity','lat','long','pm2_5']]\n",
    "\n",
    "    df['lat_grid'] = df.apply(lambda row: int((n_lat_grid-1)*(row.lat-lat_range['min'])/(lat_range['max']-lat_range['min'])), axis=1 )\n",
    "    df['long_grid'] = df.apply(lambda row: int((n_long_grid-1)*(row.long-long_range['min'])/(long_range['max']-long_range['min'])), axis=1 )\n",
    "    df['lat_grid'] = df['lat_grid'].astype(float).astype(int)\n",
    "    df['long_grid'] = df['long_grid'].astype(float).astype(int)\n",
    "\n",
    "    # rounding @120min\n",
    "    df.dateTime = pd.to_datetime(df.dateTime)\n",
    "    df.dateTime = df.dateTime.dt.round('180min')\n",
    "    # use time as a feature as well\n",
    "    df.dateTime = df.dateTime.dt.hour*60 + df.dateTime.dt.minute\n",
    "    df = df[(df.dateTime>=360)] \n",
    "\n",
    "    # only PM2_5\n",
    "#     df = df[['dateTime','lat_grid','long_grid','pm2_5\n",
    "    df = df.pivot_table(index=['lat_grid','long_grid'], columns='dateTime', aggfunc='mean')[['pm2_5', 'temperature', 'humidity']]   \n",
    "    columns = df.columns\n",
    "#     df = df[columns[2:]]\n",
    "    df = df.fillna(0)\n",
    "    \n",
    "    return df"
   ]
  },
  {
   "cell_type": "code",
   "execution_count": 4,
   "metadata": {
    "id": "862f1040"
   },
   "outputs": [],
   "source": [
    "def train_test_split(df, grid_points_indices, train_size):\n",
    "    # random.seed(10)\n",
    "    time_len = df.shape[1]\n",
    "    train_size = int(time_len * train_size) \n",
    "    train_data = df.iloc[:, :train_size]\n",
    "    train_data = train_data.reindex(grid_points_indices,fill_value=0)\n",
    "    train_data = np.array(train_data)\n",
    "    test_data = df.iloc[:, train_size:]\n",
    "    test_data = test_data.reindex(grid_points_indices,fill_value=0)\n",
    "    test_data = np.array(test_data)\n",
    "    return train_data, test_data"
   ]
  },
  {
   "cell_type": "code",
   "execution_count": 122,
   "metadata": {
    "id": "71d9f9ca"
   },
   "outputs": [],
   "source": [
    "def scale_data(train_data, test_data):\n",
    "    max_pm = train_data.max()\n",
    "    min_pm = train_data.min()\n",
    "    print(max_pm, min_pm)\n",
    "    train_scaled = (train_data - min_pm) / (max_pm - min_pm)\n",
    "    test_scaled = (test_data - min_pm) / (max_pm - min_pm)\n",
    "    return train_scaled, test_scaled"
   ]
  },
  {
   "cell_type": "code",
   "execution_count": 6,
   "metadata": {
    "id": "216e54f0"
   },
   "outputs": [],
   "source": [
    "def sequence_data_preparation(seq_len, pre_len, train_data_pm2_5, train_data_temp, train_data_hum, test_data_pm2_5, test_data_temp, test_data_hum):\n",
    "    trainX, trainY, testX, testY = [], [], [], []\n",
    "\n",
    "    for i in range(train_data_pm2_5.shape[1] - int(seq_len + pre_len - 1)):\n",
    "        a = train_data_pm2_5[:, i : i + seq_len + pre_len]\n",
    "        b = train_data_temp[:, i : i + seq_len + pre_len]\n",
    "        c = train_data_hum[:, i : i + seq_len + pre_len]\n",
    "        d = np.concatenate((a[:, :seq_len] , b[:, :seq_len] , c[:, :seq_len]), axis=1)\n",
    "        trainX.append(d)\n",
    "        trainY.append(a[:, -1])\n",
    "\n",
    "    for i in range(test_data_pm2_5.shape[1] - int(seq_len + pre_len - 1)):\n",
    "        a = test_data_pm2_5[:, i : i + seq_len + pre_len]\n",
    "        b = test_data_temp[:, i : i + seq_len + pre_len]\n",
    "        c = test_data_hum[:, i : i + seq_len + pre_len]\n",
    "        d = np.concatenate((a[:, :seq_len] , b[:, :seq_len] , c[:, :seq_len]), axis=1)\n",
    "        testX.append(d)\n",
    "        testY.append(a[:, -1])\n",
    "\n",
    "    trainX = np.array(trainX)\n",
    "    trainY = np.array(trainY)\n",
    "    testX = np.array(testX)\n",
    "    testY = np.array(testY)\n",
    "\n",
    "    # print(trainX)\n",
    "\n",
    "    return trainX, trainY, testX, testY"
   ]
  },
  {
   "cell_type": "code",
   "execution_count": 7,
   "metadata": {
    "id": "eb07fa73"
   },
   "outputs": [],
   "source": [
    "def prepare_train_data(grid_points_indices, train_size = 0.8):\n",
    "    train_data_pm2_5, test_data_pm2_5 = train_test_split(df_pm2_5, grid_points_indices, train_size)\n",
    "    train_data_temp, test_data_temp = train_test_split(df_temp, grid_points_indices, train_size)\n",
    "    train_data_hum, test_data_hum = train_test_split(df_hum, grid_points_indices, train_size)\n",
    "\n",
    "    train_scaled_pm2_5, test_scaled_pm2_5 = scale_data(train_data_pm2_5, test_data_pm2_5)\n",
    "    train_scaled_temp, test_scaled_temp = scale_data(train_data_temp, test_data_temp)\n",
    "    train_scaled_hum, test_scaled_hum = scale_data(train_data_hum, test_data_hum)\n",
    "\n",
    "    trainX, trainY, testX, testY = sequence_data_preparation(\n",
    "        seq_len, pre_len, train_scaled_pm2_5, train_scaled_temp, train_scaled_hum, test_scaled_pm2_5, test_scaled_temp, test_scaled_hum)\n",
    "\n",
    "    print(trainX.shape)\n",
    "    print(trainY.shape)\n",
    "    print(testX.shape)\n",
    "    print(testY.shape)\n",
    "    return trainX, trainY, testX, testY, train_data_pm2_5"
   ]
  },
  {
   "cell_type": "markdown",
   "metadata": {
    "jp-MarkdownHeadingCollapsed": true,
    "tags": []
   },
   "source": [
    "# Training"
   ]
  },
  {
   "cell_type": "code",
   "execution_count": 61,
   "metadata": {},
   "outputs": [],
   "source": [
    "def my_loss(y_true, y_pred):\n",
    "    a = y_pred[y_true > 0] - y_true[y_true > 0]\n",
    "    return torch.sum(a**2), len(a)"
   ]
  },
  {
   "cell_type": "code",
   "execution_count": 9,
   "metadata": {},
   "outputs": [],
   "source": [
    "def eval_model(model, testX, testY):\n",
    "    output = model(torch.Tensor(testX))\n",
    "    ## actual train and test values\n",
    "    ## Rescale values\n",
    "    max_pm = train_data.max()\n",
    "    min_pm = train_data.min()\n",
    "    test_true = np.array((testY * (max_pm - min_pm)) + min_pm)\n",
    "    ## Rescale model predicted values\n",
    "    test_output = np.array((output.detach().numpy() * (max_pm - min_pm)) + min_pm)\n",
    "    # # Masked predicted values\\\n",
    "    mask_test = torch.sign(torch.Tensor(testY))\n",
    "    test_output = torch.Tensor(test_output)*(mask_test)\n",
    "    test_mse = my_loss(torch.Tensor(test_true), torch.Tensor(test_output))\n",
    "    test_rmse = torch.sqrt(test_mse)\n",
    "    print(\"Test RMSE: \", test_rmse)\n",
    "    return test_output, test_true"
   ]
  },
  {
   "cell_type": "code",
   "execution_count": 10,
   "metadata": {},
   "outputs": [],
   "source": [
    "def get_out_df(train_rmse, validation_rmse):\n",
    "    max_pm = train_data.max()\n",
    "    min_pm = train_data.min()\n",
    "    scale_factor = max_pm - min_pm\n",
    "    df = pd.DataFrame()\n",
    "    df['Mean Train loss'] = [sum(train_rmse)*scale_factor/len(train_rmse)]\n",
    "    df['Last Train loss'] = [train_rmse[-1]*scale_factor]\n",
    "    df['Mean Test loss'] = [sum(validation_rmse)*scale_factor/len(validation_rmse)]\n",
    "    df['Last Test loss'] = [validation_rmse[-1]*scale_factor]\n",
    "    # df['Train time callbacks'] = [sum(cb.logs)]\n",
    "    return df"
   ]
  },
  {
   "cell_type": "code",
   "execution_count": 11,
   "metadata": {},
   "outputs": [],
   "source": [
    "def plot_predictions(test_output, test_true, save_path=None):\n",
    "    ##all test result visualization\n",
    "    fig = plt.figure(figsize=(15, 8))\n",
    "    # test_output, test_true = eval(model, testX, testY )\n",
    "    a_pred = test_output[test_true>0]\n",
    "    a_true = test_true[test_true>0]\n",
    "    plt.plot(a_pred, \"r-\", label=\"prediction\")\n",
    "    plt.plot(a_true, \"b-\", label=\"true\")\n",
    "    plt.xlabel(\"test points\")\n",
    "    plt.ylabel(\"PM2.5\")\n",
    "    plt.legend(loc=\"best\", fontsize=10)\n",
    "    if save_path is not None:\n",
    "        plt.savefig(save_path)\n",
    "    else:\n",
    "        plt.show()"
   ]
  },
  {
   "cell_type": "markdown",
   "metadata": {
    "id": "0cXhHSBqSnPO",
    "tags": []
   },
   "source": [
    "# Initialize The Model"
   ]
  },
  {
   "cell_type": "code",
   "execution_count": null,
   "metadata": {},
   "outputs": [],
   "source": [
    "# collect data for the whole three months, clean it and store it in a csv file\n",
    "# df = pd.DataFrame()\n",
    "# months = ['Nov', 'Dec', 'Jan']\n",
    "# month_code = ['11', '12', '01']\n",
    "# year = ['2020', '2020', '2021']\n",
    "# for i in range(3):\n",
    "#     x = '../dataset/%s/%s-%s-' % (months[i], year[i], month_code[i])\n",
    "#     for day in range(1, 32):\n",
    "#         file = '%s%s_all.csv' % (x, day)\n",
    "#         # check if file exists\n",
    "#         print(file)\n",
    "#         if(os.path.isfile(file)):\n",
    "#             df1 = data_preparation(file)\n",
    "#             df = pd.concat([df, df1], axis=1)\n",
    "# df.fillna(0, inplace=True)\n",
    "# # dump the data in pickle\n",
    "# df.to_pickle('../dataset/df.pkl')"
   ]
  },
  {
   "cell_type": "code",
   "execution_count": 123,
   "metadata": {},
   "outputs": [],
   "source": [
    "df = pd.read_pickle('../dataset/df.pkl')"
   ]
  },
  {
   "cell_type": "code",
   "execution_count": 124,
   "metadata": {},
   "outputs": [],
   "source": [
    "df_pm2_5 = df['pm2_5']\n",
    "df_temp = df['temperature']\n",
    "df_hum = df['humidity']"
   ]
  },
  {
   "cell_type": "code",
   "execution_count": 125,
   "metadata": {
    "colab": {
     "base_uri": "https://localhost:8080/"
    },
    "id": "K-w7y9wAx_45",
    "outputId": "b6fb3286-0f45-4e57-facd-bca95c77d5bd"
   },
   "outputs": [
    {
     "name": "stdout",
     "output_type": "stream",
     "text": [
      "887.4905660377359 0.0\n",
      "185.42000000000004 0.0\n",
      "100.0 0.0\n",
      "(440, 270, 9)\n",
      "(440, 270)\n",
      "(70, 270, 9)\n",
      "(70, 270)\n"
     ]
    }
   ],
   "source": [
    "trainX, trainY, testX, testY, train_data = prepare_train_data(grid_points_indices, train_size = 0.86)"
   ]
  },
  {
   "cell_type": "code",
   "execution_count": 111,
   "metadata": {},
   "outputs": [],
   "source": [
    "from gcn_lstm import GCN_LSTM\n",
    "import numpy as np\n",
    "import torch\n",
    "adj = adj.astype(np.float32)\n",
    "model=GCN_LSTM(torch.from_numpy(adj), grid_size = 270, seq_len = 9, gc_sizes = [32,16,8], lstm_sizes = [8,4])\n",
    "optimizer = optim.Adam(model.parameters(), lr=0.01, betas=(0.9, 0.999), eps=1e-05)"
   ]
  },
  {
   "cell_type": "code",
   "execution_count": 100,
   "metadata": {},
   "outputs": [
    {
     "name": "stdout",
     "output_type": "stream",
     "text": [
      "<class 'torch.nn.parameter.Parameter'> torch.Size([270, 4])\n",
      "<class 'torch.nn.parameter.Parameter'> torch.Size([270])\n"
     ]
    }
   ],
   "source": [
    "for param in model.parameters():\n",
    "    print(type(param), param.size())"
   ]
  },
  {
   "cell_type": "code",
   "execution_count": 62,
   "metadata": {},
   "outputs": [],
   "source": [
    "\n",
    "def train_model(model, optimizer, trainX, trainY, testX, testY, n_epochs, batch_size):\n",
    "    # convert all data to tensor\n",
    "    trainX = torch.from_numpy(trainX.astype(np.float32))\n",
    "    trainY = torch.from_numpy(trainY.astype(np.float32))\n",
    "    testX = torch.from_numpy(testX.astype(np.float32))\n",
    "    testY = torch.from_numpy(testY.astype(np.float32))\n",
    "    \n",
    "    trainDs = TensorDataset(trainX, trainY)\n",
    "    testDs = TensorDataset(testX, testY)\n",
    "    trainLoader = DataLoader(trainDs, batch_size=batch_size, shuffle=True)\n",
    "    testLoader = DataLoader(testDs, batch_size=batch_size, shuffle=False)\n",
    "\n",
    "    train_mse, train_rmse, validation_mse, validation_rmse=[], [], [], []\n",
    "    for epoch in range(n_epochs):\n",
    "        train_loss = 0.0\n",
    "        valid_loss = 0.0\n",
    "        train_len = 0\n",
    "        valid_len = 0\n",
    "        for _, (inputs, targets) in enumerate(trainLoader):\n",
    "            model.train()\n",
    "            outputs = model(inputs)\n",
    "            loss, tlen = my_loss(outputs, targets)\n",
    "            optimizer.zero_grad()\n",
    "            loss.backward()\n",
    "            optimizer.step()\n",
    "            train_loss += loss.item()\n",
    "            train_len += tlen\n",
    "        \n",
    "        with torch.no_grad():\n",
    "            for _, (inputs, targets) in enumerate(testLoader):\n",
    "                model.eval()\n",
    "                outputs = model(inputs)\n",
    "                loss, tlen = my_loss(outputs, targets)\n",
    "                valid_loss += loss.item()\n",
    "                valid_len += tlen\n",
    "\n",
    "        train_loss /= train_len\n",
    "        valid_loss /= valid_len\n",
    "        train_mse.append(train_loss)\n",
    "        validation_mse.append(valid_loss)\n",
    "        train_rmse.append(math.sqrt(train_loss))\n",
    "        validation_rmse.append(math.sqrt(valid_loss))\n",
    "\n",
    "        if((epoch+1)%10==0):\n",
    "            print(f'Epoch {epoch+1} \\t Train Loss: ', {train_loss}, 'Valid Loss: ', {valid_loss})\n",
    "\n",
    "    return train_mse, train_rmse, validation_mse, validation_rmse"
   ]
  },
  {
   "cell_type": "code",
   "execution_count": 119,
   "metadata": {},
   "outputs": [
    {
     "name": "stdout",
     "output_type": "stream",
     "text": [
      "Epoch 10 \t Train Loss:  {0.008959362514894017} Valid Loss:  {0.005933943955355851}\n",
      "Epoch 20 \t Train Loss:  {0.008965776520546037} Valid Loss:  {0.00592785360951903}\n",
      "Epoch 30 \t Train Loss:  {0.008966013237282081} Valid Loss:  {0.005932916711877893}\n",
      "Epoch 40 \t Train Loss:  {0.008962661425272623} Valid Loss:  {0.005934164915135298}\n",
      "Epoch 50 \t Train Loss:  {0.008943771657718954} Valid Loss:  {0.005967627429457569}\n",
      "Epoch 60 \t Train Loss:  {0.008962312691942208} Valid Loss:  {0.005953548925894278}\n",
      "Epoch 70 \t Train Loss:  {0.008944555388556586} Valid Loss:  {0.005960925521043243}\n",
      "Epoch 80 \t Train Loss:  {0.008919973726625795} Valid Loss:  {0.005948669191390749}\n",
      "Epoch 90 \t Train Loss:  {0.008929595064233851} Valid Loss:  {0.005946570199633402}\n",
      "Epoch 100 \t Train Loss:  {0.008948462852323898} Valid Loss:  {0.005930183854683366}\n"
     ]
    },
    {
     "data": {
      "image/png": "[encoded data removed]",
      "text/plain": [
       "<Figure size 432x288 with 1 Axes>"
      ]
     },
     "metadata": {
      "needs_background": "light"
     },
     "output_type": "display_data"
    }
   ],
   "source": [
    "train_mse, train_rmse, validation_mse, validation_rmse = train_model(model, optimizer, trainX, trainY, testX, testY, 100, 20)\n",
    "from matplotlib import pyplot as plt\n",
    "plt.plot(np.arange(1, 101), train_mse, label='avg training loss')\n",
    "plt.plot(np.arange(1, 101), validation_mse, label='avg validation loss')\n",
    "plt.legend()\n",
    "plt.show()"
   ]
  },
  {
   "cell_type": "code",
   "execution_count": 118,
   "metadata": {},
   "outputs": [
    {
     "data": {
      "text/plain": [
       "array([0.        , 0.09007204, 0.        , 0.        , 0.0901418 ,\n",
       "       0.09168873, 0.        , 0.        , 0.        , 0.        ,\n",
       "       0.        , 0.        , 0.10074794, 0.07605715, 0.        ,\n",
       "       0.        , 0.        , 0.        , 0.        , 0.        ,\n",
       "       0.08018865, 0.09328407, 0.        , 0.        , 0.        ,\n",
       "       0.        , 0.        , 0.        , 0.08869089, 0.        ,\n",
       "       0.        , 0.        , 0.        , 0.        , 0.        ,\n",
       "       0.        , 0.        , 0.        , 0.08768104, 0.08910171,\n",
       "       0.        , 0.        , 0.        , 0.        , 0.        ,\n",
       "       0.        , 0.        , 0.        , 0.        , 0.        ,\n",
       "       0.09933627, 0.08509181, 0.08647559, 0.        , 0.        ,\n",
       "       0.        , 0.        , 0.        , 0.        , 0.        ,\n",
       "       0.        , 0.        , 0.        , 0.        , 0.09475133,\n",
       "       0.09417279, 0.08492809, 0.        , 0.        , 0.        ,\n",
       "       0.        , 0.        , 0.        , 0.        , 0.        ,\n",
       "       0.        , 0.        , 0.        , 0.09396974, 0.09671146,\n",
       "       0.12079633, 0.07937487, 0.08102519, 0.        , 0.        ,\n",
       "       0.        , 0.        , 0.        , 0.        , 0.        ,\n",
       "       0.        , 0.        , 0.        , 0.08881016, 0.        ,\n",
       "       0.09779447, 0.0812403 , 0.        , 0.        , 0.        ,\n",
       "       0.        , 0.        , 0.        , 0.        , 0.        ,\n",
       "       0.08769324, 0.        , 0.07599887, 0.        , 0.        ,\n",
       "       0.        , 0.        , 0.        , 0.        , 0.        ,\n",
       "       0.        , 0.        , 0.        , 0.        , 0.08508357,\n",
       "       0.        , 0.07303901, 0.0698599 , 0.        , 0.        ,\n",
       "       0.        , 0.        , 0.        , 0.        , 0.        ,\n",
       "       0.        , 0.        , 0.        , 0.        , 0.        ,\n",
       "       0.        , 0.        , 0.09443671, 0.        , 0.06835753,\n",
       "       0.06672103, 0.        , 0.        , 0.        , 0.        ,\n",
       "       0.        , 0.        , 0.        , 0.        , 0.        ,\n",
       "       0.        , 0.        , 0.09031665, 0.        , 0.06478942,\n",
       "       0.07449218, 0.        , 0.        , 0.        , 0.        ,\n",
       "       0.        , 0.        , 0.        , 0.        , 0.        ,\n",
       "       0.        , 0.        , 0.        , 0.        , 0.        ,\n",
       "       0.12353053, 0.0885999 , 0.09003937, 0.087474  , 0.09631626,\n",
       "       0.08394455, 0.        , 0.        , 0.        , 0.        ,\n",
       "       0.        , 0.        , 0.        , 0.        , 0.        ,\n",
       "       0.        , 0.10214506, 0.        , 0.        , 0.        ,\n",
       "       0.09580881, 0.10512995, 0.09829608, 0.        , 0.09482224,\n",
       "       0.        , 0.        , 0.        , 0.        , 0.        ,\n",
       "       0.        , 0.        , 0.        , 0.1111528 , 0.        ,\n",
       "       0.        , 0.        , 0.        , 0.09096127, 0.09225227,\n",
       "       0.08539718, 0.08112762, 0.        , 0.        , 0.12585527,\n",
       "       0.1157524 , 0.        , 0.        , 0.        , 0.09096723,\n",
       "       0.09255632, 0.08063184, 0.08265681, 0.08416729, 0.        ,\n",
       "       0.        , 0.        , 0.1142878 , 0.1109929 , 0.        ,\n",
       "       0.        , 0.        , 0.09024122, 0.09149199, 0.09941353,\n",
       "       0.1045204 , 0.        , 0.        , 0.        , 0.        ,\n",
       "       0.        , 0.        , 0.        , 0.        , 0.        ,\n",
       "       0.        , 0.08750351, 0.08612385, 0.        , 0.        ,\n",
       "       0.        , 0.        , 0.        , 0.        , 0.        ,\n",
       "       0.        , 0.        , 0.        , 0.        , 0.        ,\n",
       "       0.        , 0.        , 0.        , 0.        , 0.        ,\n",
       "       0.        , 0.        , 0.        , 0.        , 0.        ])"
      ]
     },
     "execution_count": 118,
     "metadata": {},
     "output_type": "execute_result"
    }
   ],
   "source": [
    "trainY[0]"
   ]
  },
  {
   "cell_type": "code",
   "execution_count": 120,
   "metadata": {},
   "outputs": [],
   "source": [
    "predY0 = model(torch.tensor(trainX[0]).float().unsqueeze(0))"
   ]
  },
  {
   "cell_type": "code",
   "execution_count": 121,
   "metadata": {},
   "outputs": [
    {
     "data": {
      "text/plain": [
       "tensor([[0.0064, 0.2140, 0.0993, 0.0999, 0.2072, 0.2065, 0.0023, 0.0026, 0.0030,\n",
       "         0.0031, 0.0948, 0.0023, 0.2093, 0.0814, 0.0023, 0.0028, 0.0026, 0.0029,\n",
       "         0.0856, 0.0904, 0.1952, 0.2062, 0.0029, 0.0023, 0.0027, 0.0038, 0.0998,\n",
       "         0.0023, 0.2053, 0.0028, 0.0019, 0.0419, 0.0465, 0.0026, 0.0029, 0.0024,\n",
       "         0.0958, 0.0981, 0.2067, 0.2034, 0.0023, 0.0024, 0.0530, 0.0540, 0.0542,\n",
       "         0.0579, 0.0030, 0.0021, 0.0024, 0.0026, 0.1937, 0.2065, 0.2078, 0.0685,\n",
       "         0.0740, 0.0022, 0.0565, 0.0552, 0.0018, 0.0021, 0.0579, 0.0023, 0.0033,\n",
       "         0.0024, 0.2016, 0.2051, 0.2035, 0.0626, 0.0699, 0.0722, 0.0517, 0.0552,\n",
       "         0.1714, 0.1786, 0.1785, 0.1862, 0.1811, 0.1923, 0.2009, 0.2027, 0.2035,\n",
       "         0.1732, 0.1444, 0.0702, 0.0411, 0.0509, 0.1793, 0.0027, 0.0025, 0.0028,\n",
       "         0.1384, 0.1554, 0.1611, 0.1925, 0.0345, 0.1779, 0.1662, 0.1784, 0.1693,\n",
       "         0.0025, 0.0024, 0.0025, 0.1381, 0.1312, 0.1259, 0.1951, 0.0693, 0.1705,\n",
       "         0.0379, 0.0027, 0.1481, 0.1666, 0.0023, 0.0021, 0.0024, 0.0025, 0.1295,\n",
       "         0.0029, 0.1063, 0.1954, 0.0039, 0.1551, 0.1412, 0.0024, 0.0024, 0.0476,\n",
       "         0.1020, 0.1007, 0.0975, 0.0025, 0.0025, 0.0024, 0.0030, 0.0036, 0.1292,\n",
       "         0.0026, 0.1425, 0.2037, 0.0041, 0.1496, 0.1528, 0.0036, 0.1021, 0.0473,\n",
       "         0.0024, 0.0028, 0.0024, 0.0026, 0.0027, 0.1264, 0.0033, 0.0025, 0.2006,\n",
       "         0.0039, 0.1132, 0.1595, 0.1071, 0.0295, 0.1098, 0.0025, 0.0026, 0.0029,\n",
       "         0.0022, 0.0020, 0.0018, 0.0024, 0.0024, 0.1364, 0.1155, 0.0019, 0.2109,\n",
       "         0.1669, 0.1633, 0.1915, 0.1944, 0.1386, 0.0310, 0.0325, 0.1098, 0.0026,\n",
       "         0.0025, 0.0021, 0.0029, 0.1085, 0.1409, 0.0025, 0.1763, 0.0096, 0.0039,\n",
       "         0.0022, 0.1878, 0.2005, 0.1945, 0.0030, 0.1285, 0.1053, 0.1049, 0.0026,\n",
       "         0.0023, 0.0024, 0.0029, 0.1184, 0.0025, 0.1783, 0.0058, 0.0041, 0.0021,\n",
       "         0.0031, 0.1970, 0.1493, 0.1584, 0.1266, 0.1061, 0.1090, 0.1761, 0.1732,\n",
       "         0.0053, 0.0020, 0.0025, 0.1708, 0.1581, 0.1456, 0.1374, 0.1410, 0.1201,\n",
       "         0.0231, 0.0023, 0.1770, 0.1616, 0.0121, 0.0020, 0.0021, 0.1602, 0.1711,\n",
       "         0.1146, 0.1277, 0.0025, 0.0024, 0.0019, 0.0026, 0.0025, 0.0026, 0.0058,\n",
       "         0.0025, 0.0026, 0.0019, 0.1703, 0.1706, 0.0027, 0.0027, 0.0022, 0.0022,\n",
       "         0.0027, 0.0025, 0.0022, 0.0021, 0.0020, 0.0023, 0.0022, 0.0025, 0.0031,\n",
       "         0.0024, 0.0021, 0.0027, 0.0029, 0.0030, 0.0024, 0.0028, 0.0024, 0.0023]],\n",
       "       grad_fn=<SigmoidBackward0>)"
      ]
     },
     "execution_count": 121,
     "metadata": {},
     "output_type": "execute_result"
    }
   ],
   "source": [
    "predY0"
   ]
  },
  {
   "cell_type": "code",
   "execution_count": 74,
   "metadata": {},
   "outputs": [
    {
     "name": "stdout",
     "output_type": "stream",
     "text": [
      "Epoch 10 \t Train Loss:  {0.009555857430403481} Valid Loss:  {0.006034237493282904}\n",
      "Epoch 20 \t Train Loss:  {0.009407538308037653} Valid Loss:  {0.00599429761291181}\n",
      "Epoch 30 \t Train Loss:  {0.009261363411591911} Valid Loss:  {0.005975268076336573}\n",
      "Epoch 40 \t Train Loss:  {0.009288454136061748} Valid Loss:  {0.0059541972225936}\n",
      "Epoch 50 \t Train Loss:  {0.009211279358526673} Valid Loss:  {0.005934892028727859}\n",
      "Epoch 60 \t Train Loss:  {0.009173808451052066} Valid Loss:  {0.0059421614995078436}\n",
      "Epoch 70 \t Train Loss:  {0.009132744471232097} Valid Loss:  {0.0059322014056816304}\n",
      "Epoch 80 \t Train Loss:  {0.009122809079359678} Valid Loss:  {0.0059249715451841}\n",
      "Epoch 90 \t Train Loss:  {0.009080439529033622} Valid Loss:  {0.005928530264153051}\n",
      "Epoch 100 \t Train Loss:  {0.00907415489556412} Valid Loss:  {0.0059241336741775435}\n"
     ]
    },
    {
     "data": {
      "image/png": "[encoded data removed]",
      "text/plain": [
       "<Figure size 432x288 with 1 Axes>"
      ]
     },
     "metadata": {
      "needs_background": "light"
     },
     "output_type": "display_data"
    },
    {
     "data": {
      "text/html": [
       "<div>\n",
       "<style scoped>\n",
       "    .dataframe tbody tr th:only-of-type {\n",
       "        vertical-align: middle;\n",
       "    }\n",
       "\n",
       "    .dataframe tbody tr th {\n",
       "        vertical-align: top;\n",
       "    }\n",
       "\n",
       "    .dataframe thead th {\n",
       "        text-align: right;\n",
       "    }\n",
       "</style>\n",
       "<table border=\"1\" class=\"dataframe\">\n",
       "  <thead>\n",
       "    <tr style=\"text-align: right;\">\n",
       "      <th></th>\n",
       "      <th>Mean Train loss</th>\n",
       "      <th>Last Train loss</th>\n",
       "      <th>Mean Test loss</th>\n",
       "      <th>Last Test loss</th>\n",
       "    </tr>\n",
       "  </thead>\n",
       "  <tbody>\n",
       "    <tr>\n",
       "      <th>0</th>\n",
       "      <td>85.392108</td>\n",
       "      <td>84.540895</td>\n",
       "      <td>68.512135</td>\n",
       "      <td>68.308724</td>\n",
       "    </tr>\n",
       "  </tbody>\n",
       "</table>\n",
       "</div>"
      ],
      "text/plain": [
       "   Mean Train loss  Last Train loss  Mean Test loss  Last Test loss\n",
       "0        85.392108        84.540895       68.512135       68.308724"
      ]
     },
     "execution_count": 74,
     "metadata": {},
     "output_type": "execute_result"
    }
   ],
   "source": [
    "train_mse, train_rmse, validation_mse, validation_rmse = train_model(model, optimizer, trainX, trainY, testX, testY, 100, 20)\n",
    "from matplotlib import pyplot as plt\n",
    "plt.plot(np.arange(1, 101), train_mse, label='avg validation loss')\n",
    "plt.plot(np.arange(1, 101), validation_mse, label='avg training loss')\n",
    "plt.legend()\n",
    "plt.show()\n",
    "get_out_df(train_rmse, validation_rmse)"
   ]
  },
  {
   "cell_type": "code",
   "execution_count": 144,
   "metadata": {},
   "outputs": [
    {
     "name": "stdout",
     "output_type": "stream",
     "text": [
      "Epoch 10 \t Train Loss:  {0.01059842037135049} Valid Loss:  {0.009346965700387955}\n",
      "Epoch 20 \t Train Loss:  {0.010617787596818648} Valid Loss:  {0.009483435191214085}\n",
      "Epoch 30 \t Train Loss:  {0.010713944437080307} Valid Loss:  {0.009492737241089344}\n",
      "Epoch 40 \t Train Loss:  {0.010542506553036603} Valid Loss:  {0.009235422126948833}\n",
      "Epoch 50 \t Train Loss:  {0.010639324921526408} Valid Loss:  {0.009316270239651203}\n",
      "Epoch 60 \t Train Loss:  {0.010692350061512307} Valid Loss:  {0.009312639012932777}\n",
      "Epoch 70 \t Train Loss:  {0.01055149119347334} Valid Loss:  {0.009252529591321945}\n",
      "Epoch 80 \t Train Loss:  {0.010701033884757443} Valid Loss:  {0.009337879717350006}\n",
      "Epoch 90 \t Train Loss:  {0.010640692838320606} Valid Loss:  {0.009294153191149235}\n",
      "Epoch 100 \t Train Loss:  {0.010606866339711767} Valid Loss:  {0.00955137237906456}\n"
     ]
    },
    {
     "data": {
      "image/png": "[encoded data removed]",
      "text/plain": [
       "<Figure size 432x288 with 1 Axes>"
      ]
     },
     "metadata": {
      "needs_background": "light"
     },
     "output_type": "display_data"
    },
    {
     "data": {
      "text/html": [
       "<div>\n",
       "<style scoped>\n",
       "    .dataframe tbody tr th:only-of-type {\n",
       "        vertical-align: middle;\n",
       "    }\n",
       "\n",
       "    .dataframe tbody tr th {\n",
       "        vertical-align: top;\n",
       "    }\n",
       "\n",
       "    .dataframe thead th {\n",
       "        text-align: right;\n",
       "    }\n",
       "</style>\n",
       "<table border=\"1\" class=\"dataframe\">\n",
       "  <thead>\n",
       "    <tr style=\"text-align: right;\">\n",
       "      <th></th>\n",
       "      <th>Mean Train loss</th>\n",
       "      <th>Last Train loss</th>\n",
       "      <th>Mean Test loss</th>\n",
       "      <th>Last Test loss</th>\n",
       "    </tr>\n",
       "  </thead>\n",
       "  <tbody>\n",
       "    <tr>\n",
       "      <th>0</th>\n",
       "      <td>70.161593</td>\n",
       "      <td>70.071162</td>\n",
       "      <td>65.744412</td>\n",
       "      <td>66.493419</td>\n",
       "    </tr>\n",
       "  </tbody>\n",
       "</table>\n",
       "</div>"
      ],
      "text/plain": [
       "   Mean Train loss  Last Train loss  Mean Test loss  Last Test loss\n",
       "0        70.161593        70.071162       65.744412       66.493419"
      ]
     },
     "execution_count": 144,
     "metadata": {},
     "output_type": "execute_result"
    }
   ],
   "source": [
    "train_mse, train_rmse, validation_mse, validation_rmse = train_model(model,optimizer, trainX, trainY, testX, testY, 100, 23)\n",
    "from matplotlib import pyplot as plt\n",
    "plt.plot(np.arange(1, 101), train_mse, label='avg training loss')\n",
    "plt.plot(np.arange(1, 101), validation_mse, label='avg validation loss')\n",
    "plt.legend()\n",
    "plt.show()\n",
    "get_out_df(train_rmse, validation_rmse)"
   ]
  }
 ],
 "metadata": {
  "colab": {
   "collapsed_sections": [
    "w8v-XuEdwYtu",
    "E_mXhzz87keD"
   ],
   "name": "GCN-LSTM in PyTorch-Clean.ipynb",
   "provenance": []
  },
  "kernelspec": {
   "display_name": "Python 3.6.10 ('py37')",
   "language": "python",
   "name": "python3"
  },
  "language_info": {
   "codemirror_mode": {
    "name": "ipython",
    "version": 3
   },
   "file_extension": ".py",
   "mimetype": "text/x-python",
   "name": "python",
   "nbconvert_exporter": "python",
   "pygments_lexer": "ipython3",
   "version": "3.6.10"
  },
  "vscode": {
   "interpreter": {
    "hash": "b3f4bfce3322bb77dc3d30024aabc01f5d8c8e069adb1894b1673d2270c7557f"
   }
  }
 },
 "nbformat": 4,
 "nbformat_minor": 4
}
